{
 "cells": [
  {
   "attachments": {},
   "cell_type": "markdown",
   "metadata": {},
   "source": [
    "# Control de Retenciones Banco INVICO vs Icaro"
   ]
  },
  {
   "attachments": {},
   "cell_type": "markdown",
   "metadata": {},
   "source": [
    "La finalidad de los presentes reportes es verificar que no existan desvíos en las transferencias entre cuentas corrientes del Banco REAL (Sistema de Seguimiento de Cuentas Corrientes) como consecuencia del pago de retenciones. En INVICO, las DDJJ de rentenciones de impuestos son abonados con una cuenta distinta (según se trate de impuestos nacionales o provinciales y de acuerdo al Orígen de las mismas según SGF) a la utilizada para abonar al empresario. Para que las cuentas corrientes expongan un saldo correcto, sobretodo aquellas utilizadas exclusivas para fondos provinciales (por ejemplo, la 130832-03), es necesario que las mismas le devuelvan (es decir, transfieran) el importe correspondientes a las retenciones abonadas por las cuentas corrientes pagadores de impuestos. **Estas transferencias pueden dar origen a errores en saldos.**"
   ]
  },
  {
   "attachments": {},
   "cell_type": "markdown",
   "metadata": {},
   "source": [
    "## Datos iniciales"
   ]
  },
  {
   "attachments": {},
   "cell_type": "markdown",
   "metadata": {},
   "source": [
    "El único dato que debería modificarse es el relativo al ejercicio sobre el cual se pretende trabajar."
   ]
  },
  {
   "cell_type": "code",
   "execution_count": null,
   "metadata": {},
   "outputs": [],
   "source": [
    "from invicoctrlpy.gastos.control_retenciones.control_retenciones import ControlRetenciones\n",
    "\n",
    "import pandas as pd\n",
    "pd.options.display.float_format = '{:,.2f}'.format\n",
    "pd.set_option('mode.chained_assignment',None)\n",
    "\n",
    "import itables\n",
    "itables.options.lengthMenu = [10, 50, 100, -1]\n",
    "itables.options.maxBytes = 0\n",
    "\n",
    "from  pivottablejs import pivot_ui\n",
    "\n",
    "EJERCICIO = '2022'\n",
    "UPDATE_DB = False\n",
    "control_retenciones = ControlRetenciones(ejercicio=EJERCICIO, update_db=UPDATE_DB)"
   ]
  },
  {
   "attachments": {},
   "cell_type": "markdown",
   "metadata": {},
   "source": [
    "## Reportes"
   ]
  },
  {
   "attachments": {},
   "cell_type": "markdown",
   "metadata": {},
   "source": [
    "### Icaro Retenciones Mensual"
   ]
  },
  {
   "attachments": {},
   "cell_type": "markdown",
   "metadata": {},
   "source": [
    "COMPLETAR"
   ]
  },
  {
   "cell_type": "code",
   "execution_count": null,
   "metadata": {},
   "outputs": [],
   "source": [
    "control_retenciones_mensual = control_retenciones.control_retenciones_mensual()\n",
    "itables.show(control_retenciones_mensual, column_filters=\"footer\", dom=\"lrtip\")"
   ]
  },
  {
   "attachments": {},
   "cell_type": "markdown",
   "metadata": {},
   "source": [
    "### Icaro Retenciones Mensual por Cuenta Corriente"
   ]
  },
  {
   "cell_type": "code",
   "execution_count": null,
   "metadata": {},
   "outputs": [],
   "source": [
    "control_retenciones_mensual_cta_cte = control_retenciones.control_retenciones_mensual_cta_cte()\n",
    "itables.show(control_retenciones_mensual_cta_cte, column_filters=\"footer\", dom=\"lrtip\")"
   ]
  },
  {
   "attachments": {},
   "cell_type": "markdown",
   "metadata": {},
   "source": [
    "## Tablas Auxiliares"
   ]
  },
  {
   "attachments": {},
   "cell_type": "markdown",
   "metadata": {},
   "source": [
    "### Comprobantes de Gasto Icaro neto de RDEU"
   ]
  },
  {
   "cell_type": "code",
   "execution_count": null,
   "metadata": {},
   "outputs": [],
   "source": [
    "icaro_carga = control_retenciones.import_icaro_carga_con_retenciones()\n",
    "itables.show(icaro_carga, column_filters=\"footer\", dom=\"lrtip\")"
   ]
  },
  {
   "attachments": {},
   "cell_type": "markdown",
   "metadata": {},
   "source": [
    "### Pago Deuda Contratistas en SIIF según Mayor Contabilidad (rcocc31 2111-1-2 y 1112-2-6)"
   ]
  },
  {
   "cell_type": "code",
   "execution_count": null,
   "metadata": {},
   "outputs": [],
   "source": [
    "pago_contratistas = control_retenciones.import_siif_pagos_contratistas()\n",
    "itables.show(pago_contratistas, column_filters=\"footer\", dom=\"lrtip\")"
   ]
  },
  {
   "attachments": {},
   "cell_type": "markdown",
   "metadata": {},
   "source": [
    "### Pago Retenciones en SIIF según Mayor Contabilidad (rcocc31 2122-1-2 y 1112-2-6)"
   ]
  },
  {
   "cell_type": "code",
   "execution_count": null,
   "metadata": {},
   "outputs": [],
   "source": [
    "pago_retenciones = control_retenciones.import_siif_pagos_retenciones()\n",
    "itables.show(pago_retenciones, column_filters=\"footer\", dom=\"lrtip\")"
   ]
  },
  {
   "cell_type": "code",
   "execution_count": null,
   "metadata": {},
   "outputs": [],
   "source": [
    "banco_invico = control_retenciones.import_banco_invico()\n",
    "itables.show(banco_invico, column_filters=\"footer\", dom=\"lrtip\")"
   ]
  },
  {
   "cell_type": "code",
   "execution_count": null,
   "metadata": {},
   "outputs": [],
   "source": [
    "resumen_rend = control_retenciones.import_resumen_rend_cuit()\n",
    "itables.show(resumen_rend, column_filters=\"footer\", dom=\"lrtip\")"
   ]
  },
  {
   "attachments": {},
   "cell_type": "markdown",
   "metadata": {},
   "source": [
    "## EXTRA:"
   ]
  },
  {
   "cell_type": "markdown",
   "metadata": {},
   "source": [
    "### Excel"
   ]
  },
  {
   "cell_type": "code",
   "execution_count": null,
   "metadata": {},
   "outputs": [],
   "source": [
    "with pd.ExcelWriter('Control Retenciones ' + EJERCICIO + '.xlsx') as writer:\n",
    "    control_retenciones_mensual.to_excel(writer, sheet_name='IcaroMensual', index=False)\n",
    "    control_retenciones_mensual_cta_cte.to_excel(writer, sheet_name='IcaroMensualCtaCte', index=False)\n",
    "    banco_invico.to_excel(writer, sheet_name='BancoSSCC', index=False)\n",
    "    icaro_carga.to_excel(writer, sheet_name='IcaroCargaRetenciones', index=False)\n",
    "    resumen_rend.to_excel(writer, sheet_name='SGFResumenRend', index=False)\n",
    "    pago_contratistas.to_excel(writer, sheet_name='PagoContratistasSIIF', index=False)\n",
    "    pago_retenciones.to_excel(writer, sheet_name='PagoRetencionesSIIF', index=False)\n"
   ]
  }
 ],
 "metadata": {
  "kernelspec": {
   "display_name": "Python 3.8.5 ('invicoctrlpy_env': venv)",
   "language": "python",
   "name": "python3"
  },
  "language_info": {
   "codemirror_mode": {
    "name": "ipython",
    "version": 3
   },
   "file_extension": ".py",
   "mimetype": "text/x-python",
   "name": "python",
   "nbconvert_exporter": "python",
   "pygments_lexer": "ipython3",
   "version": "3.8.5"
  },
  "orig_nbformat": 4,
  "vscode": {
   "interpreter": {
    "hash": "6658676a6853aed73c87d1c3c3a42e9e3200b017a0097464af5767205de40e74"
   }
  }
 },
 "nbformat": 4,
 "nbformat_minor": 2
}
