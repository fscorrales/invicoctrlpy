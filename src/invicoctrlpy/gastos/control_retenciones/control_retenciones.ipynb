{
 "cells": [
  {
   "attachments": {},
   "cell_type": "markdown",
   "metadata": {},
   "source": [
    "# Control de Retenciones Banco INVICO vs Icaro"
   ]
  },
  {
   "attachments": {},
   "cell_type": "markdown",
   "metadata": {},
   "source": [
    "La finalidad de los presentes reportes es verificar que no existan desvíos en las transferencias entre cuentas corrientes del Banco REAL (Sistema de Seguimiento de Cuentas Corrientes) como consecuencia del pago de retenciones. En INVICO, las DDJJ de rentenciones de impuestos son abonados con una cuenta distinta (según se trate de impuestos nacionales o provinciales y de acuerdo al Orígen de las mismas según SGF) a la utilizada para abonar al empresario. Para que las cuentas corrientes expongan un saldo correcto, sobretodo aquellas utilizadas exclusivas para fondos provinciales (por ejemplo, la 130832-03), es necesario que las mismas le devuelvan (es decir, transfieran) el importe correspondientes a las retenciones abonadas por las cuentas corrientes pagadores de impuestos. **Estas transferencias pueden dar origen a errores en saldos.**"
   ]
  },
  {
   "attachments": {},
   "cell_type": "markdown",
   "metadata": {},
   "source": [
    "## Datos iniciales"
   ]
  },
  {
   "attachments": {},
   "cell_type": "markdown",
   "metadata": {},
   "source": [
    "El único dato que debería modificarse es el relativo al ejercicio sobre el cual se pretende trabajar."
   ]
  },
  {
   "cell_type": "code",
   "execution_count": null,
   "metadata": {},
   "outputs": [],
   "source": [
    "from invicoctrlpy.gastos.control_retenciones.control_retenciones import ControlRetenciones\n",
    "\n",
    "import pandas as pd\n",
    "pd.options.display.float_format = '{:,.2f}'.format\n",
    "pd.set_option('mode.chained_assignment',None)\n",
    "\n",
    "import itables\n",
    "itables.options.lengthMenu = [10, 50, 100, -1]\n",
    "itables.options.maxBytes = 0\n",
    "\n",
    "from  pivottablejs import pivot_ui\n",
    "\n",
    "EJERCICIO = ['2022','2023']\n",
    "UPDATE_DB = False\n",
    "control_retenciones = ControlRetenciones(ejercicio=EJERCICIO, update_db=UPDATE_DB)"
   ]
  },
  {
   "attachments": {},
   "cell_type": "markdown",
   "metadata": {},
   "source": [
    "## Controles Cruzados"
   ]
  },
  {
   "attachments": {},
   "cell_type": "markdown",
   "metadata": {},
   "source": [
    "### Icaro vs SIIF"
   ]
  },
  {
   "cell_type": "code",
   "execution_count": null,
   "metadata": {},
   "outputs": [],
   "source": [
    "icaro_vs_siif = control_retenciones.icaro_vs_siif(only_diff=True)\n",
    "itables.show(icaro_vs_siif, column_filters=\"footer\", dom=\"lrtip\")"
   ]
  },
  {
   "cell_type": "markdown",
   "metadata": {},
   "source": [
    "### Icaro vs INVICO"
   ]
  },
  {
   "cell_type": "code",
   "execution_count": null,
   "metadata": {},
   "outputs": [],
   "source": [
    "icaro_vs_invico = control_retenciones.icaro_vs_invico(only_diff=True)\n",
    "itables.show(icaro_vs_invico, column_filters=\"footer\", dom=\"lrtip\")"
   ]
  },
  {
   "attachments": {},
   "cell_type": "markdown",
   "metadata": {},
   "source": [
    "### SGF vs Banco INVICO"
   ]
  },
  {
   "cell_type": "code",
   "execution_count": null,
   "metadata": {},
   "outputs": [],
   "source": [
    "sgf_vs_sscc = control_retenciones.sgf_vs_sscc()\n",
    "itables.show(sgf_vs_sscc, column_filters=\"footer\", dom=\"lrtip\")"
   ]
  },
  {
   "attachments": {},
   "cell_type": "markdown",
   "metadata": {},
   "source": [
    "## Tablas Auxiliares"
   ]
  },
  {
   "attachments": {},
   "cell_type": "markdown",
   "metadata": {},
   "source": [
    "### Icaro Completo"
   ]
  },
  {
   "cell_type": "code",
   "execution_count": null,
   "metadata": {},
   "outputs": [],
   "source": [
    "icaro_carga = control_retenciones.import_icaro_carga_con_retenciones()\n",
    "itables.show(icaro_carga, column_filters=\"footer\", dom=\"lrtip\")"
   ]
  },
  {
   "cell_type": "markdown",
   "metadata": {},
   "source": [
    "### Icaro Resumen"
   ]
  },
  {
   "cell_type": "code",
   "execution_count": null,
   "metadata": {},
   "outputs": [],
   "source": [
    "icaro_resumen = control_retenciones.icaro_summarize()\n",
    "itables.show(icaro_resumen, column_filters=\"footer\", dom=\"lrtip\")"
   ]
  },
  {
   "attachments": {},
   "cell_type": "markdown",
   "metadata": {},
   "source": [
    "### Pago Deuda Contratistas en SIIF según Mayor Contabilidad (rcocc31 2111-1-2 y 1112-2-6)"
   ]
  },
  {
   "cell_type": "code",
   "execution_count": null,
   "metadata": {},
   "outputs": [],
   "source": [
    "pagos_contratistas = control_retenciones.import_siif_pagos_contratistas()\n",
    "itables.show(pagos_contratistas, column_filters=\"footer\", dom=\"lrtip\")"
   ]
  },
  {
   "attachments": {},
   "cell_type": "markdown",
   "metadata": {},
   "source": [
    "### Pago Retenciones en SIIF según Mayor Contabilidad (rcocc31 2122-1-2 y 1112-2-6)"
   ]
  },
  {
   "cell_type": "code",
   "execution_count": null,
   "metadata": {},
   "outputs": [],
   "source": [
    "pagos_retenciones = control_retenciones.import_siif_pagos_retenciones()\n",
    "itables.show(pagos_retenciones, column_filters=\"footer\", dom=\"lrtip\")"
   ]
  },
  {
   "cell_type": "markdown",
   "metadata": {},
   "source": [
    "### SIIF pagos resumen"
   ]
  },
  {
   "cell_type": "code",
   "execution_count": null,
   "metadata": {},
   "outputs": [],
   "source": [
    "siif_resumen = control_retenciones.siif_summarize()\n",
    "itables.show(siif_resumen, column_filters=\"footer\", dom=\"lrtip\")"
   ]
  },
  {
   "cell_type": "markdown",
   "metadata": {},
   "source": [
    "### Rendiciones SGF"
   ]
  },
  {
   "cell_type": "code",
   "execution_count": null,
   "metadata": {},
   "outputs": [],
   "source": [
    "rend_cuit = control_retenciones.import_resumen_rend_cuit()\n",
    "itables.show(rend_cuit, column_filters=\"footer\", dom=\"lrtip\")"
   ]
  },
  {
   "cell_type": "markdown",
   "metadata": {},
   "source": [
    "### SGF Resumen"
   ]
  },
  {
   "cell_type": "code",
   "execution_count": null,
   "metadata": {},
   "outputs": [],
   "source": [
    "sgf_resumen = control_retenciones.sgf_summarize()\n",
    "itables.show(sgf_resumen, column_filters=\"footer\", dom=\"lrtip\")"
   ]
  },
  {
   "cell_type": "markdown",
   "metadata": {},
   "source": [
    "### Banco INVICO Completo"
   ]
  },
  {
   "cell_type": "code",
   "execution_count": null,
   "metadata": {},
   "outputs": [],
   "source": [
    "banco_invico = control_retenciones.import_banco_invico()\n",
    "itables.show(banco_invico, column_filters=\"footer\", dom=\"lrtip\")"
   ]
  },
  {
   "cell_type": "markdown",
   "metadata": {},
   "source": [
    "### Banco INVICO Resumen "
   ]
  },
  {
   "cell_type": "code",
   "execution_count": null,
   "metadata": {},
   "outputs": [],
   "source": [
    "sscc_resumen = control_retenciones.sscc_summarize()\n",
    "itables.show(sscc_resumen, column_filters=\"footer\", dom=\"lrtip\")"
   ]
  },
  {
   "attachments": {},
   "cell_type": "markdown",
   "metadata": {},
   "source": [
    "## EXTRA:"
   ]
  },
  {
   "cell_type": "markdown",
   "metadata": {},
   "source": [
    "### Excel"
   ]
  },
  {
   "cell_type": "code",
   "execution_count": null,
   "metadata": {},
   "outputs": [],
   "source": [
    "if isinstance(EJERCICIO, list):\n",
    "    ejercicio_str = EJERCICIO[-1]\n",
    "else:\n",
    "    ejercicio_str = EJERCICIO\n",
    "\n",
    "with pd.ExcelWriter('Control Retenciones ' + ejercicio_str + '.xlsx') as writer:\n",
    "    icaro_vs_invico.to_excel(writer, sheet_name='IcaroVsInvico', index=False)\n",
    "    icaro_vs_siif.to_excel(writer, sheet_name='IcaroVsSiif', index=False)\n",
    "    sgf_vs_sscc.to_excel(writer, sheet_name='SGFVsSSCC', index=False)\n",
    "    icaro_carga.to_excel(writer, sheet_name='IcaroCargaRetenciones', index=False)\n",
    "    icaro_resumen.to_excel(writer, sheet_name='IcaroResumen', index=False)\n",
    "    pagos_contratistas.to_excel(writer, sheet_name='PagoContratistasSIIF', index=False)\n",
    "    pagos_retenciones.to_excel(writer, sheet_name='PagoRetencionesSIIF', index=False)\n",
    "    siif_resumen.to_excel(writer, sheet_name='SiifResumen', index=False)\n",
    "    rend_cuit.to_excel(writer, sheet_name='RendCuit', index=False)\n",
    "    sgf_resumen.to_excel(writer, sheet_name='SGFResumen', index=False)\n",
    "    banco_invico.to_excel(writer, sheet_name='BancoSSCC', index=False)\n",
    "    sscc_resumen.to_excel(writer, sheet_name='SSCCResumen', index=False)\n"
   ]
  }
 ],
 "metadata": {
  "kernelspec": {
   "display_name": "Python 3.8.5 ('invicoctrlpy_env': venv)",
   "language": "python",
   "name": "python3"
  },
  "language_info": {
   "codemirror_mode": {
    "name": "ipython",
    "version": 3
   },
   "file_extension": ".py",
   "mimetype": "text/x-python",
   "name": "python",
   "nbconvert_exporter": "python",
   "pygments_lexer": "ipython3",
   "version": "3.8.5"
  },
  "orig_nbformat": 4,
  "vscode": {
   "interpreter": {
    "hash": "6658676a6853aed73c87d1c3c3a42e9e3200b017a0097464af5767205de40e74"
   }
  }
 },
 "nbformat": 4,
 "nbformat_minor": 2
}
