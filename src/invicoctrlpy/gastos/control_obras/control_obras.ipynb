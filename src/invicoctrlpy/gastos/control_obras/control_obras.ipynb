{
 "cells": [
  {
   "attachments": {},
   "cell_type": "markdown",
   "metadata": {},
   "source": [
    "# CONTROL DE OBRAS"
   ]
  },
  {
   "attachments": {},
   "cell_type": "markdown",
   "metadata": {},
   "source": [
    "La finalidad del presente reporte es cruzar la información de ejecución de obras entre Icaro y el Resumen de Rendiciones por Proveedor del SGF. En la medida que la información de Icaro haya sido previamente cruzada con SIIF, este control permitirá detectar, en mayor medida, desvíos en la carga del SIIF."
   ]
  },
  {
   "attachments": {},
   "cell_type": "markdown",
   "metadata": {},
   "source": [
    "## Datos iniciales"
   ]
  },
  {
   "attachments": {},
   "cell_type": "markdown",
   "metadata": {},
   "source": [
    "El único dato que debería modificarse es el relativo al ejercicio sobre el cual se pretende trabajar."
   ]
  },
  {
   "cell_type": "code",
   "execution_count": null,
   "metadata": {},
   "outputs": [],
   "source": [
    "from invicoctrlpy.gastos.control_obras.control_obras import ControlObras\n",
    "\n",
    "import pandas as pd\n",
    "pd.options.display.float_format = '{:,.2f}'.format\n",
    "pd.set_option('mode.chained_assignment',None)\n",
    "\n",
    "import itables\n",
    "itables.options.lengthMenu = [10, 50, 100, -1]\n",
    "itables.options.maxBytes = 0\n",
    "\n",
    "from  pivottablejs import pivot_ui\n",
    "\n",
    "EJERCICIO = ['2022', '2023']\n",
    "UPDATE_DB = False\n",
    "control_obras = ControlObras(ejercicio=EJERCICIO, update_db=UPDATE_DB)"
   ]
  },
  {
   "attachments": {},
   "cell_type": "markdown",
   "metadata": {},
   "source": [
    "## Controles"
   ]
  },
  {
   "attachments": {},
   "cell_type": "markdown",
   "metadata": {},
   "source": [
    "### Control por Mes y Cuenta Corrientes"
   ]
  },
  {
   "attachments": {},
   "cell_type": "markdown",
   "metadata": {},
   "source": [
    "El presente reporte agrupa la información del SGF y el SSCC por mes y cta_cte para luego cruzarlos. En la última columna se expone las diferencias detectas. "
   ]
  },
  {
   "cell_type": "code",
   "execution_count": null,
   "metadata": {},
   "outputs": [],
   "source": [
    "control_mes_cta_cte = control_obras.control_cruzado()\n",
    "control_mes_cta_cte = control_mes_cta_cte.sort_values(by=['ejercicio', 'mes', 'cta_cte'])\n",
    "itables.show(control_mes_cta_cte, column_filters=\"footer\", dom=\"lrtip\")"
   ]
  },
  {
   "attachments": {},
   "cell_type": "markdown",
   "metadata": {},
   "source": [
    "## Tablas Auxiliares"
   ]
  },
  {
   "attachments": {},
   "cell_type": "markdown",
   "metadata": {},
   "source": [
    "### Icaro neto de Deuda Flotante"
   ]
  },
  {
   "cell_type": "code",
   "execution_count": null,
   "metadata": {},
   "outputs": [],
   "source": [
    "icaro = control_obras.import_icaro_carga_neto_rdeu(ejercicio=EJERCICIO)\n",
    "itables.show(icaro, column_filters=\"footer\", dom=\"lrtip\")"
   ]
  },
  {
   "attachments": {},
   "cell_type": "markdown",
   "metadata": {},
   "source": [
    "### Deuda Flotante SIIF (rdeu012)"
   ]
  },
  {
   "cell_type": "code",
   "execution_count": null,
   "metadata": {},
   "outputs": [],
   "source": [
    "rdeu = control_obras.import_siif_rdeu012()\n",
    "itables.show(rdeu, column_filters=\"footer\", dom=\"lrtip\")"
   ]
  },
  {
   "attachments": {},
   "cell_type": "markdown",
   "metadata": {},
   "source": [
    "### Resumen de Rendiciones por Proveedor SGF (depurado)"
   ]
  },
  {
   "cell_type": "code",
   "execution_count": null,
   "metadata": {},
   "outputs": [],
   "source": [
    "sgf = control_obras.sgf_resumen_rend_cuit\n",
    "itables.show(sgf, column_filters=\"footer\", dom=\"lrtip\")"
   ]
  },
  {
   "attachments": {},
   "cell_type": "markdown",
   "metadata": {},
   "source": [
    "## EXTRA:"
   ]
  },
  {
   "cell_type": "markdown",
   "metadata": {},
   "source": [
    "### Excel"
   ]
  },
  {
   "cell_type": "code",
   "execution_count": null,
   "metadata": {},
   "outputs": [],
   "source": [
    "with pd.ExcelWriter('control_obras.xlsx') as writer:\n",
    "    control_mes_cta_cte.to_excel(writer, sheet_name='control_obras', index=False)\n",
    "    icaro.to_excel(writer, sheet_name='icaro', index=False)\n",
    "    rdeu.to_excel(writer, sheet_name='rdeu', index=False)\n",
    "    sgf.to_excel(writer, sheet_name='sgf', index=False)"
   ]
  },
  {
   "cell_type": "markdown",
   "metadata": {},
   "source": [
    "### Tablas Dinámicas"
   ]
  },
  {
   "attachments": {},
   "cell_type": "markdown",
   "metadata": {},
   "source": [
    "Por separado, se incluye una tabla dinámica con toda la información de Icaro (neteado de rdeu) y del Resumen de Rendiciones por Proveedor (SGF depurado) para el ejercicio bajo análisis. Ambas bases de datos fueron pivoteadas en función de los campos mes, fecha, cta_cte y cuit. A su vez, se incluyó un campo adicional, sobre el cual debería realizarse los cálculos agregados, llamado **diferencia** el cual surge de resta entre la ejecución Icaro y el importe bruto del SGF."
   ]
  },
  {
   "cell_type": "code",
   "execution_count": null,
   "metadata": {},
   "outputs": [],
   "source": [
    "pivot_ui(control_obras.control_completo(), 'tabla_dinamica_control_obras.html')"
   ]
  }
 ],
 "metadata": {
  "kernelspec": {
   "display_name": "Python 3.8.5 ('invicoctrlpy_env': venv)",
   "language": "python",
   "name": "python3"
  },
  "language_info": {
   "codemirror_mode": {
    "name": "ipython",
    "version": 3
   },
   "file_extension": ".py",
   "mimetype": "text/x-python",
   "name": "python",
   "nbconvert_exporter": "python",
   "pygments_lexer": "ipython3",
   "version": "3.8.5"
  },
  "orig_nbformat": 4,
  "vscode": {
   "interpreter": {
    "hash": "6658676a6853aed73c87d1c3c3a42e9e3200b017a0097464af5767205de40e74"
   }
  }
 },
 "nbformat": 4,
 "nbformat_minor": 2
}
