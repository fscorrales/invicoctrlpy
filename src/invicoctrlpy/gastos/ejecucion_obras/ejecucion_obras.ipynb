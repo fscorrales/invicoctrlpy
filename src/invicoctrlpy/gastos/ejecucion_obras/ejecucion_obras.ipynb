{
 "cells": [
  {
   "attachments": {},
   "cell_type": "markdown",
   "metadata": {},
   "source": [
    "# REPORTES DE EJECUCION DE OBRAS"
   ]
  },
  {
   "attachments": {},
   "cell_type": "markdown",
   "metadata": {},
   "source": [
    "La finalidad de los presentes reportes es exponer la ejecución presupuestaria de obras (partidas 421 y 422) y, más específcamente, la ejecución de Módulos Básicos (Programa 29). La información contenida en los mismos será útil para tareas de control y, especialmente, para la elaboración de los Estados Contables"
   ]
  },
  {
   "attachments": {},
   "cell_type": "markdown",
   "metadata": {},
   "source": [
    "## Datos iniciales"
   ]
  },
  {
   "attachments": {},
   "cell_type": "markdown",
   "metadata": {},
   "source": [
    "El único dato que debería modificarse es el relativo al ejercicio sobre el cual se pretende trabajar."
   ]
  },
  {
   "cell_type": "code",
   "execution_count": null,
   "metadata": {},
   "outputs": [],
   "source": [
    "from invicoctrlpy.gastos.ejecucion_obras.ejecucion_obras import EjecucionObras\n",
    "\n",
    "import pandas as pd\n",
    "pd.options.display.float_format = '{:,.2f}'.format\n",
    "pd.set_option('mode.chained_assignment',None)\n",
    "\n",
    "import itables\n",
    "itables.options.lengthMenu = [10, 50, 100, -1]\n",
    "itables.options.maxBytes = 0\n",
    "\n",
    "from  pivottablejs import pivot_ui\n",
    "\n",
    "EJERCICIO = '2023'\n",
    "UPDATE_DB = False\n",
    "ejecucion_obras = EjecucionObras(ejercicio=EJERCICIO, update_db=UPDATE_DB)"
   ]
  },
  {
   "attachments": {},
   "cell_type": "markdown",
   "metadata": {},
   "source": [
    "## Reportes"
   ]
  },
  {
   "attachments": {},
   "cell_type": "markdown",
   "metadata": {},
   "source": [
    "### Detalle Obras Ejecutadas en el ejercicio seleccionado (SIIF)"
   ]
  },
  {
   "attachments": {},
   "cell_type": "markdown",
   "metadata": {},
   "source": [
    "La finalidad del presente reporte es exponer la ejecución presupuestaria de obras (partidas 421 y 422) con datos neteamente sacados del SIIF (rf602 + rf610) para el ejercicio seleccionado. "
   ]
  },
  {
   "cell_type": "code",
   "execution_count": null,
   "metadata": {},
   "outputs": [],
   "source": [
    "siif_ejec_obras_actual = ejecucion_obras.reporte_siif_ejec_obras_actual()\n",
    "itables.show(siif_ejec_obras_actual, column_filters=\"footer\", dom=\"lrtip\")"
   ]
  },
  {
   "attachments": {},
   "cell_type": "markdown",
   "metadata": {},
   "source": [
    "### Planillómetro (Icaro + Descripciones SIIF)"
   ]
  },
  {
   "attachments": {},
   "cell_type": "markdown",
   "metadata": {},
   "source": [
    "La finalidad del presente reporte es exponer la ejecución presupuestaria de obras (partidas 421 y 422) con datos de Icaro y descripcion del SIIF (también es posible utilizar las denominaciones de las estructuras presupuestias directamente de Icaro) pivoteado por ejercicio. Además, las obras se desegregan en Obras en Curso, Terminadas Anterior y Terminadas en el presente Ejercicio (una vez que la obra llega al 100% de avance, toda la ejecución posterior, si la hubiera, es considerada como terminada independientemente del porcentaje de avance)"
   ]
  },
  {
   "cell_type": "code",
   "execution_count": null,
   "metadata": {},
   "outputs": [],
   "source": [
    "planillometro = ejecucion_obras.reporte_planillometro(desagregar_fuente=False)\n",
    "itables.show(planillometro, column_filters=\"footer\", dom=\"lrtip\")"
   ]
  },
  {
   "attachments": {},
   "cell_type": "markdown",
   "metadata": {},
   "source": [
    "### Módulos Básicos por Convenio (Icaro + Descripciones SIIF)"
   ]
  },
  {
   "attachments": {},
   "cell_type": "markdown",
   "metadata": {},
   "source": [
    "La finalidad del presente reporte es exponer la ejecución presupuestaria de Módulos Básicos (partidas 421 y 422 en Programa 29) con datos de Icaro y descripcion del SIIF (también es posible utilizar las denominaciones de las estructuras presupuestias directamente de Icaro) pivoteado por convenio (en este caso solo se incluye fuente 11 pero, si se desea pivotear por ejercicio, se incluyen todas las fuentes). Además, las obras se desegregan en Obras en Curso, Terminadas Anterior y Terminadas en el presente Ejercicio (una vez que la obra llega al 100% de avance, toda la ejecución posterior, si la hubiera, es considerada como terminada independientemente del porcentaje de avance)"
   ]
  },
  {
   "cell_type": "code",
   "execution_count": null,
   "metadata": {},
   "outputs": [],
   "source": [
    "icaro_mod_basicos_convenios = ejecucion_obras.reporte_icaro_mod_basicos()\n",
    "itables.show(icaro_mod_basicos_convenios, column_filters=\"footer\", dom=\"lrtip\")"
   ]
  },
  {
   "attachments": {},
   "cell_type": "markdown",
   "metadata": {},
   "source": [
    "## Tablas Auxiliares"
   ]
  },
  {
   "attachments": {},
   "cell_type": "markdown",
   "metadata": {},
   "source": [
    "### Ejecucion SIIF con Descripcion hasta el ejercicio seleccionado"
   ]
  },
  {
   "cell_type": "code",
   "execution_count": null,
   "metadata": {},
   "outputs": [],
   "source": [
    "siif_ejec_obras = ejecucion_obras.import_siif_obras_desc()\n",
    "itables.show(siif_ejec_obras, column_filters=\"footer\", dom=\"lrtip\")"
   ]
  },
  {
   "attachments": {},
   "cell_type": "markdown",
   "metadata": {},
   "source": [
    "### Ejecución ICARO con Descripción hasta el Ejercicio seleccionado"
   ]
  },
  {
   "cell_type": "code",
   "execution_count": null,
   "metadata": {},
   "outputs": [],
   "source": [
    "icaro_carga_desc_siif = ejecucion_obras.import_icaro_carga_desc(es_desc_siif=False)\n",
    "itables.show(icaro_carga_desc_siif, column_filters=\"footer\", dom=\"lrtip\")"
   ]
  },
  {
   "attachments": {},
   "cell_type": "markdown",
   "metadata": {},
   "source": [
    "### Ejecución ICARO Módulos Básicos con Descripción hasta el Ejercicio seleccionado"
   ]
  },
  {
   "cell_type": "code",
   "execution_count": null,
   "metadata": {},
   "outputs": [],
   "source": [
    "icaro_mod_bas = ejecucion_obras.import_icaro_mod_basicos(es_desc_siif=True)\n",
    "itables.show(icaro_mod_bas, column_filters=\"footer\", dom=\"lrtip\")"
   ]
  },
  {
   "attachments": {},
   "cell_type": "markdown",
   "metadata": {},
   "source": [
    "## EXTRA:"
   ]
  },
  {
   "cell_type": "markdown",
   "metadata": {},
   "source": [
    "### Excel"
   ]
  },
  {
   "cell_type": "code",
   "execution_count": null,
   "metadata": {},
   "outputs": [],
   "source": [
    "with pd.ExcelWriter('Planillometro al ' + EJERCICIO + '.xlsx') as writer:\n",
    "    siif_ejec_obras_actual.to_excel(writer, sheet_name='EjecuccionSIIF' + EJERCICIO, index=False)\n",
    "    siif_desc_icaro_actual = ejecucion_obras.import_siif_obras_desc_icaro()\n",
    "    siif_desc_icaro_actual.to_excel(writer, sheet_name='EjecuccionSIIFDescICARO' + EJERCICIO, index=False)\n",
    "    planillometro.to_excel(writer, sheet_name='Planillometro', index=False)\n",
    "    planillometro_full_icaro = ejecucion_obras.reporte_planillometro(full_icaro=True, es_desc_siif=False)\n",
    "    planillometro_full_icaro.to_excel(writer, sheet_name='PlanillometroFullIcaro', index=False)\n",
    "\n",
    "with pd.ExcelWriter('Módulos Básicos Ejecutados Hasta el ' + EJERCICIO + '.xlsx') as writer:\n",
    "    siif_ejec_mod_basicos = siif_ejec_obras_actual.copy()\n",
    "    siif_ejec_mod_basicos = siif_ejec_mod_basicos.loc[siif_ejec_mod_basicos['estructura'].str.startswith('29')]\n",
    "    siif_ejec_mod_basicos.to_excel(writer, sheet_name='EjecuccionSIIF' + EJERCICIO, index=False)\n",
    "    icaro_mod_basicos_convenios.to_excel(writer, sheet_name='ModBasicosPorConvFte11', index=False)\n",
    "    icaro_mod_basicos_ejercicios = ejecucion_obras.reporte_icaro_mod_basicos(por_convenio=False)\n",
    "    icaro_mod_basicos_ejercicios.to_excel(writer, sheet_name='ModBasicosPorEjercicio', index=False)"
   ]
  }
 ],
 "metadata": {
  "kernelspec": {
   "display_name": "Python 3.8.5 ('invicoctrlpy_env': venv)",
   "language": "python",
   "name": "python3"
  },
  "language_info": {
   "codemirror_mode": {
    "name": "ipython",
    "version": 3
   },
   "file_extension": ".py",
   "mimetype": "text/x-python",
   "name": "python",
   "nbconvert_exporter": "python",
   "pygments_lexer": "ipython3",
   "version": "3.8.5"
  },
  "orig_nbformat": 4,
  "vscode": {
   "interpreter": {
    "hash": "6658676a6853aed73c87d1c3c3a42e9e3200b017a0097464af5767205de40e74"
   }
  }
 },
 "nbformat": 4,
 "nbformat_minor": 2
}
