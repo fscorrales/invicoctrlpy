{
 "cells": [
  {
   "attachments": {},
   "cell_type": "markdown",
   "metadata": {},
   "source": [
    "# CONTROL DE HABERES (partida 100)"
   ]
  },
  {
   "attachments": {},
   "cell_type": "markdown",
   "metadata": {},
   "source": [
    "La finalidad del presente reporte es cruzar la información de ejecución de obras entre Icaro y el Resumen de Rendiciones por Proveedor del SGF. En la medida que la información de Icaro haya sido previamente cruzada con SIIF, este control permitirá detectar, en mayor medida, desvíos en la carga del SIIF."
   ]
  },
  {
   "attachments": {},
   "cell_type": "markdown",
   "metadata": {},
   "source": [
    "## Datos iniciales"
   ]
  },
  {
   "attachments": {},
   "cell_type": "markdown",
   "metadata": {},
   "source": [
    "El único dato que debería modificarse es el relativo al ejercicio sobre el cual se pretende trabajar."
   ]
  },
  {
   "cell_type": "code",
   "execution_count": null,
   "metadata": {},
   "outputs": [],
   "source": [
    "from invicoctrlpy.gastos.control_haberes.control_haberes import ControlHaberes\n",
    "\n",
    "import pandas as pd\n",
    "pd.options.display.float_format = '{:,.2f}'.format\n",
    "pd.set_option('mode.chained_assignment',None)\n",
    "\n",
    "import itables\n",
    "itables.options.lengthMenu = [10, 50, 100, -1]\n",
    "itables.options.maxBytes = 0\n",
    "\n",
    "from  pivottablejs import pivot_ui\n",
    "\n",
    "EJERCICIO = '2022'\n",
    "UPDATE_DB = False\n",
    "control_haberes = ControlHaberes(ejercicio=EJERCICIO, update_db=UPDATE_DB)"
   ]
  },
  {
   "attachments": {},
   "cell_type": "markdown",
   "metadata": {},
   "source": [
    "## Controles"
   ]
  },
  {
   "attachments": {},
   "cell_type": "markdown",
   "metadata": {},
   "source": [
    "### Control por Mes y Cuenta Corrientes"
   ]
  },
  {
   "attachments": {},
   "cell_type": "markdown",
   "metadata": {},
   "source": [
    "El presente reporte agrupa la información del SGF y el SSCC por mes y cta_cte para luego cruzarlos. En la última columna se expone las diferencias detectas. "
   ]
  },
  {
   "cell_type": "code",
   "execution_count": null,
   "metadata": {},
   "outputs": [],
   "source": [
    "# control_mes_cta_cte = control_obras.control_mes_cta_cte()\n",
    "# itables.show(control_mes_cta_cte, column_filters=\"footer\", dom=\"lrtip\")"
   ]
  },
  {
   "attachments": {},
   "cell_type": "markdown",
   "metadata": {},
   "source": [
    "## Tablas Auxiliares"
   ]
  },
  {
   "attachments": {},
   "cell_type": "markdown",
   "metadata": {},
   "source": [
    "### Comprobantes SIIF de Haberes (rcg01_uejp + gto_rpa03g)"
   ]
  },
  {
   "attachments": {},
   "cell_type": "markdown",
   "metadata": {},
   "source": [
    "Los comprobantes gastos del SIIF listado a continuación únicamente corresponden a los registrados con la cuenta 130832-04 (Haberes). Además, están neteados de ART (partidas 150 y 151) porque, en la realidad, no se pagan con la 130832-04 y esto dificulta el cruzamiento de datos."
   ]
  },
  {
   "cell_type": "code",
   "execution_count": null,
   "metadata": {},
   "outputs": [],
   "source": [
    "comprobantes_haberes = control_haberes.siif_comprobantes_haberes_neto_rdeu\n",
    "itables.show(comprobantes_haberes, column_filters=\"footer\", dom=\"lrtip\")"
   ]
  },
  {
   "attachments": {},
   "cell_type": "markdown",
   "metadata": {},
   "source": [
    "### Deuda Flotante SIIF (rdeu012)"
   ]
  },
  {
   "cell_type": "code",
   "execution_count": null,
   "metadata": {},
   "outputs": [],
   "source": [
    "rdeu = control_haberes.siif_rdeu012\n",
    "itables.show(rdeu, column_filters=\"footer\", dom=\"lrtip\")"
   ]
  },
  {
   "attachments": {},
   "cell_type": "markdown",
   "metadata": {},
   "source": [
    "### Resumen General de Movimentos (Sist. Seg. Ctas. Ctes. INVICO)"
   ]
  },
  {
   "attachments": {},
   "cell_type": "markdown",
   "metadata": {},
   "source": [
    "El listado que a continuación se detalla corresponde a los movimientos del cuenta 130832-04, excluidos los depósitos, del Sistema de Seguimiento de Cuentas Corrientes (SSCC o Banco INVICO). Además, los movimientos están neteados de los correspondientes al concepto *ganancias* dado que, en ocasiones, los mismos se abonan con otra cuenta distinta a la 130832-04."
   ]
  },
  {
   "cell_type": "code",
   "execution_count": null,
   "metadata": {},
   "outputs": [],
   "source": [
    "sscc = control_haberes.sscc_banco_invico\n",
    "itables.show(sscc, column_filters=\"footer\", dom=\"lrtip\")"
   ]
  },
  {
   "attachments": {},
   "cell_type": "markdown",
   "metadata": {},
   "source": [
    "## EXTRA:"
   ]
  },
  {
   "cell_type": "markdown",
   "metadata": {},
   "source": [
    "### Excel"
   ]
  },
  {
   "cell_type": "code",
   "execution_count": null,
   "metadata": {},
   "outputs": [],
   "source": [
    "# with pd.ExcelWriter('control_obras.xlsx') as writer:\n",
    "#     control_mes_cta_cte.to_excel(writer, sheet_name='control_obras', index=False)\n",
    "#     icaro.to_excel(writer, sheet_name='icaro', index=False)\n",
    "#     rdeu.to_excel(writer, sheet_name='rdeu', index=False)\n",
    "#     sgf.to_excel(writer, sheet_name='sgf', index=False)"
   ]
  },
  {
   "cell_type": "markdown",
   "metadata": {},
   "source": [
    "### Tablas Dinámicas"
   ]
  },
  {
   "attachments": {},
   "cell_type": "markdown",
   "metadata": {},
   "source": [
    "Por separado, se incluye una tabla dinámica con toda la información de Icaro (neteado de rdeu) y del Resumen de Rendiciones por Proveedor (SGF depurado) para el ejercicio bajo análisis. Ambas bases de datos fueron pivoteadas en función de los campos mes, fecha, cta_cte y cuit. A su vez, se incluyó un campo adicional, sobre el cual debería realizarse los cálculos agregados, llamado **diferencia** el cual surge de resta entre la ejecución Icaro y el importe bruto del SGF."
   ]
  },
  {
   "cell_type": "code",
   "execution_count": null,
   "metadata": {},
   "outputs": [],
   "source": [
    "# pivot_ui(control_obras.control_completo(), 'tabla_dinamica_control_obras.html')"
   ]
  }
 ],
 "metadata": {
  "kernelspec": {
   "display_name": "invicoctrlpy_env",
   "language": "python",
   "name": "python3"
  },
  "language_info": {
   "codemirror_mode": {
    "name": "ipython",
    "version": 3
   },
   "file_extension": ".py",
   "mimetype": "text/x-python",
   "name": "python",
   "nbconvert_exporter": "python",
   "pygments_lexer": "ipython3",
   "version": "3.10.6"
  },
  "orig_nbformat": 4,
  "vscode": {
   "interpreter": {
    "hash": "6144ef642a4dc858b1d6132c6d6d436505e6e8c24809058f738569b45e78dd01"
   }
  }
 },
 "nbformat": 4,
 "nbformat_minor": 2
}
