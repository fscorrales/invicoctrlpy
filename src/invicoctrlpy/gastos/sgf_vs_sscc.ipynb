{
 "cells": [
  {
   "attachments": {},
   "cell_type": "markdown",
   "metadata": {},
   "source": [
    "# CONTROL DE EGRESOS ENTRE SGF Y SSCC"
   ]
  },
  {
   "attachments": {},
   "cell_type": "markdown",
   "metadata": {},
   "source": [
    "La finalidad del presente control es cruzar la información relativa a los egresos del Sistema de Gestión Financiera (SGF) y el Sistema de Seguimiento de Cuentas Corrientes (SSCC). Fue pensado, especialmente, para detectar errores en la transferencia de retenciones entre cuentas (con énfasis en aquellas relacionadas con los fondos provinciales como la 130832-03) de forma tal que el saldo de las mismas sea correcto."
   ]
  },
  {
   "attachments": {},
   "cell_type": "markdown",
   "metadata": {},
   "source": [
    "## Datos iniciales"
   ]
  },
  {
   "attachments": {},
   "cell_type": "markdown",
   "metadata": {},
   "source": [
    "El único dato que debería modificarse es el relativo al ejercicio sobre el cual se pretende trabajar."
   ]
  },
  {
   "cell_type": "code",
   "execution_count": null,
   "metadata": {},
   "outputs": [],
   "source": [
    "from sgf_vs_sscc import SGFVsSSCC\n",
    "import pandas as pd\n",
    "import itables\n",
    "from  pivottablejs import pivot_ui\n",
    "itables.options.lengthMenu = [10, 50, 100, -1]\n",
    "pd.options.display.float_format = '{:,.2f}'.format\n",
    "\n",
    "EJERCICIO = '2022'\n",
    "UPDATE_DB = False\n",
    "sgf_vs_sscc = SGFVsSSCC(ejercicio=EJERCICIO, update_db=UPDATE_DB)"
   ]
  },
  {
   "attachments": {},
   "cell_type": "markdown",
   "metadata": {},
   "source": [
    "## Controles"
   ]
  },
  {
   "attachments": {},
   "cell_type": "markdown",
   "metadata": {},
   "source": [
    "### Control por Mes y Cuenta Corrientes"
   ]
  },
  {
   "attachments": {},
   "cell_type": "markdown",
   "metadata": {},
   "source": [
    "El presente reporte agrupa la información del SGF y el SSCC por mes y cta_cte para luego cruzarlos. En la última columna se expone las diferencias detectas. "
   ]
  },
  {
   "cell_type": "code",
   "execution_count": null,
   "metadata": {},
   "outputs": [],
   "source": [
    "test = sgf_vs_sscc.sgf_resumen_rend\n",
    "control_mes_cta_cte = sgf_vs_sscc.control_mes_cta_cte()\n",
    "itables.show(control_mes_cta_cte, column_filters=\"footer\", dom=\"lrtip\")"
   ]
  },
  {
   "attachments": {},
   "cell_type": "markdown",
   "metadata": {},
   "source": [
    "## EXTRA: Tablas Dinámicas"
   ]
  },
  {
   "attachments": {},
   "cell_type": "markdown",
   "metadata": {},
   "source": [
    "Por separado, se incluye una tabla dinámica con toda la información del SGF y SSCC para el ejercicio bajo análisis. Ambas base de datos fueron pivoteadas en función de los campos mes, fecha, cta_cte, libramiento, beneficiario. A su vez, se incluyó un campo adicional, sobre el cual debería realizarse los cálculos agregados, llamado **diferencia** el cual surge de restarle los debitos_sscc a la sumatoria de importe_neto_sgf y retenciones_sgf."
   ]
  },
  {
   "cell_type": "code",
   "execution_count": null,
   "metadata": {},
   "outputs": [],
   "source": [
    "pivot_ui(sgf_vs_sscc.control_completo(), 'control_completo_sgf_vs_sscc.html')"
   ]
  }
 ],
 "metadata": {
  "kernelspec": {
   "display_name": "invicoctrlpy_env",
   "language": "python",
   "name": "python3"
  },
  "language_info": {
   "codemirror_mode": {
    "name": "ipython",
    "version": 3
   },
   "file_extension": ".py",
   "mimetype": "text/x-python",
   "name": "python",
   "nbconvert_exporter": "python",
   "pygments_lexer": "ipython3",
   "version": "3.10.6"
  },
  "orig_nbformat": 4,
  "vscode": {
   "interpreter": {
    "hash": "6144ef642a4dc858b1d6132c6d6d436505e6e8c24809058f738569b45e78dd01"
   }
  }
 },
 "nbformat": 4,
 "nbformat_minor": 2
}
