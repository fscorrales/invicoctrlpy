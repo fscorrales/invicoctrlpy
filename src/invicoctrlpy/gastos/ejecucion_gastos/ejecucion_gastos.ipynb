{
 "cells": [
  {
   "attachments": {},
   "cell_type": "markdown",
   "metadata": {},
   "source": [
    "# REPORTES DE EJECUCION DE OBRAS"
   ]
  },
  {
   "attachments": {},
   "cell_type": "markdown",
   "metadata": {},
   "source": [
    "La finalidad de los presentes reportes es exponer la ejecución presupuestaria de obras (partidas 421 y 422) y, más específcamente, la ejecución de Módulos Básicos (Programa 29). La información contenida en los mismos será útil para tareas de control y, especialmente, para la elaboración de los Estados Contables"
   ]
  },
  {
   "attachments": {},
   "cell_type": "markdown",
   "metadata": {},
   "source": [
    "## Datos iniciales"
   ]
  },
  {
   "attachments": {},
   "cell_type": "markdown",
   "metadata": {},
   "source": [
    "El único dato que debería modificarse es el relativo al ejercicio sobre el cual se pretende trabajar."
   ]
  },
  {
   "cell_type": "code",
   "execution_count": null,
   "metadata": {},
   "outputs": [],
   "source": [
    "from invicoctrlpy.gastos.ejecucion_gastos.ejecucion_gastos import EjecucionGastos\n",
    "\n",
    "import pandas as pd\n",
    "pd.options.display.float_format = '{:,.2f}'.format\n",
    "pd.set_option('mode.chained_assignment',None)\n",
    "\n",
    "import itables\n",
    "itables.options.lengthMenu = [10, 50, 100, -1]\n",
    "itables.options.maxBytes = 0\n",
    "\n",
    "from  pivottablejs import pivot_ui\n",
    "\n",
    "EJERCICIO = '2023'\n",
    "UPDATE_DB = False\n",
    "ejecucion_gastos = EjecucionGastos(ejercicio=EJERCICIO, update_db=UPDATE_DB)"
   ]
  },
  {
   "attachments": {},
   "cell_type": "markdown",
   "metadata": {},
   "source": [
    "## Reportes"
   ]
  },
  {
   "attachments": {},
   "cell_type": "markdown",
   "metadata": {},
   "source": [
    "## Tablas Auxiliares"
   ]
  },
  {
   "attachments": {},
   "cell_type": "markdown",
   "metadata": {},
   "source": [
    "### Ejecucion SIIF con Descripcion hasta el ejercicio seleccionado"
   ]
  },
  {
   "cell_type": "code",
   "execution_count": null,
   "metadata": {},
   "outputs": [],
   "source": [
    "siif_ejec_gastos = ejecucion_gastos.import_siif_gtos_desc()\n",
    "itables.show(siif_ejec_gastos, column_filters=\"footer\", dom=\"lrtip\")"
   ]
  },
  {
   "cell_type": "code",
   "execution_count": null,
   "metadata": {},
   "outputs": [],
   "source": [
    "siif_gastos = ejecucion_gastos.import_siif_comprobantes()\n",
    "itables.show(siif_gastos, column_filters=\"footer\", dom=\"lrtip\")"
   ]
  },
  {
   "attachments": {},
   "cell_type": "markdown",
   "metadata": {},
   "source": [
    "## EXTRA:"
   ]
  },
  {
   "cell_type": "markdown",
   "metadata": {},
   "source": [
    "### Excel"
   ]
  },
  {
   "cell_type": "code",
   "execution_count": null,
   "metadata": {},
   "outputs": [],
   "source": [
    "# with pd.ExcelWriter('Planillometro al ' + EJERCICIO + '.xlsx') as writer:\n",
    "#     siif_ejec_obras_actual.to_excel(writer, sheet_name='EjecuccionSIIF' + EJERCICIO, index=False)\n",
    "#     siif_desc_icaro_actual = ejecucion_obras.import_siif_obras_desc_icaro()\n",
    "#     siif_desc_icaro_actual.to_excel(writer, sheet_name='EjecuccionSIIFDescICARO' + EJERCICIO, index=False)\n",
    "#     planillometro.to_excel(writer, sheet_name='Planillometro', index=False)\n",
    "#     planillometro_full_icaro = ejecucion_obras.reporte_planillometro(full_icaro=True, es_desc_siif=False)\n",
    "#     planillometro_full_icaro.to_excel(writer, sheet_name='PlanillometroFullIcaro', index=False)"
   ]
  }
 ],
 "metadata": {
  "kernelspec": {
   "display_name": "Python 3.8.5 ('invicoctrlpy_env': venv)",
   "language": "python",
   "name": "python3"
  },
  "language_info": {
   "codemirror_mode": {
    "name": "ipython",
    "version": 3
   },
   "file_extension": ".py",
   "mimetype": "text/x-python",
   "name": "python",
   "nbconvert_exporter": "python",
   "pygments_lexer": "ipython3",
   "version": "3.8.5"
  },
  "orig_nbformat": 4,
  "vscode": {
   "interpreter": {
    "hash": "6658676a6853aed73c87d1c3c3a42e9e3200b017a0097464af5767205de40e74"
   }
  }
 },
 "nbformat": 4,
 "nbformat_minor": 2
}
