{
 "cells": [
  {
   "attachments": {},
   "cell_type": "markdown",
   "metadata": {},
   "source": [
    "# CONTROL DE HONORARIOS (partida 300)"
   ]
  },
  {
   "attachments": {},
   "cell_type": "markdown",
   "metadata": {},
   "source": [
    "La finalidad del presente reporte es cruzar la información de ejecución de honorarios factureros (Slave) y el Resumen de Rendiciones por Proveedor del SGF. En la medida que la información de Slave haya sido previamente cruzada con SIIF, este control permitirá detectar, en mayor medida, desvíos en la carga del SIIF. \n",
    "**Tener en cuenta que, por el momenos, no es posible filtrar el los pagos con destino reparto de chequera del SGF**. Dado que los mismos son cargados en Slave, esto genera un importante **desvío a la hora del control**."
   ]
  },
  {
   "attachments": {},
   "cell_type": "markdown",
   "metadata": {},
   "source": [
    "## Datos iniciales"
   ]
  },
  {
   "attachments": {},
   "cell_type": "markdown",
   "metadata": {},
   "source": [
    "El único dato que debería modificarse es el relativo al ejercicio sobre el cual se pretende trabajar."
   ]
  },
  {
   "cell_type": "code",
   "execution_count": null,
   "metadata": {},
   "outputs": [],
   "source": [
    "from invicoctrlpy.gastos.control_honorarios.control_honorarios import ControlHonorarios\n",
    "\n",
    "import pandas as pd\n",
    "pd.options.display.float_format = '{:,.2f}'.format\n",
    "pd.set_option('mode.chained_assignment',None)\n",
    "\n",
    "import itables\n",
    "itables.options.lengthMenu = [10, 50, 100, -1]\n",
    "itables.options.maxBytes = 0\n",
    "\n",
    "from  pivottablejs import pivot_ui\n",
    "\n",
    "EJERCICIO = ['2023']\n",
    "UPDATE_DB = False\n",
    "control_honorarios = ControlHonorarios(ejercicio=EJERCICIO, update_db=UPDATE_DB)"
   ]
  },
  {
   "attachments": {},
   "cell_type": "markdown",
   "metadata": {},
   "source": [
    "## Controles"
   ]
  },
  {
   "cell_type": "markdown",
   "metadata": {},
   "source": [
    "### Control Carga Slave vs SIIF"
   ]
  },
  {
   "cell_type": "code",
   "execution_count": null,
   "metadata": {},
   "outputs": [],
   "source": [
    "siif_vs_slave = control_honorarios.siif_vs_slave()\n",
    "itables.show(siif_vs_slave, column_filters=\"footer\", dom=\"lrtip\")"
   ]
  },
  {
   "attachments": {},
   "cell_type": "markdown",
   "metadata": {},
   "source": [
    "### Control por Mes y Cuenta Corriente"
   ]
  },
  {
   "attachments": {},
   "cell_type": "markdown",
   "metadata": {},
   "source": [
    "El presente reporte agrupa la información del Slave y el SGF por mes y cuenta corriente para luego cruzarlos. En las últimas columnas se exponen las diferencias detectas entre ambos sistemas en relación al pago de honorarios de forma mensual y acumulada. "
   ]
  },
  {
   "cell_type": "code",
   "execution_count": null,
   "metadata": {},
   "outputs": [],
   "source": [
    "slave_vs_sgf = control_honorarios.slave_vs_sgf(only_diff=True)\n",
    "itables.show(slave_vs_sgf, column_filters=\"footer\", dom=\"lrtip\")"
   ]
  },
  {
   "attachments": {},
   "cell_type": "markdown",
   "metadata": {},
   "source": [
    "## Tablas Auxiliares"
   ]
  },
  {
   "attachments": {},
   "cell_type": "markdown",
   "metadata": {},
   "source": [
    "### Slave"
   ]
  },
  {
   "attachments": {},
   "cell_type": "markdown",
   "metadata": {},
   "source": [
    "Listado de comprobantes SIIF registrados por SLAVE. Se adiciona el campo cuenta corriente del reporte rcg01_uejp (SIIF). Queda pendiente, para próximas actualizaciones, netear el impacto de la Deuda Flotante (RDEU)"
   ]
  },
  {
   "cell_type": "code",
   "execution_count": null,
   "metadata": {},
   "outputs": [],
   "source": [
    "slave = control_honorarios.import_slave()\n",
    "itables.show(slave, column_filters=\"footer\", dom=\"lrtip\")"
   ]
  },
  {
   "attachments": {},
   "cell_type": "markdown",
   "metadata": {},
   "source": [
    "### Resumen de Rendiciones por Proveedores (SGF)"
   ]
  },
  {
   "attachments": {},
   "cell_type": "markdown",
   "metadata": {},
   "source": [
    "El listado que a continuación se detalla corresponde a los registros de la Resumen de Rendiciones por Proveedor del SGF filtrado de a acuerdo a los siguientes parámetros:\n",
    " - no se incluye el origen OBRAS\n",
    " - cuenta corriente incluidas 130832-05 y 130832-07\n",
    " - destinos incluidos: 'HONORARIOS - FUNCIONAMIENTO', 'COMISIONES - FUNCIONAMIENTO', 'HONORARIOS - EPAM'\n",
    "\n",
    "Además, se incluyen los Depósitos de Embargos por Alimiento retendidos a los factureros de la cuenta 130832-05 en base a registros del Sistema de Seguimiento de Cuentas Corrientes.\n",
    "\n",
    "**Queda pendiente el neteo del concepto Distribución de Chequeras** (forman parte del SGF pero no de Slave)"
   ]
  },
  {
   "cell_type": "code",
   "execution_count": null,
   "metadata": {},
   "outputs": [],
   "source": [
    "sgf = control_honorarios.import_resumen_rend_honorarios()\n",
    "itables.show(sgf, column_filters=\"footer\", dom=\"lrtip\")"
   ]
  },
  {
   "cell_type": "markdown",
   "metadata": {},
   "source": [
    "### SIIF"
   ]
  },
  {
   "cell_type": "code",
   "execution_count": null,
   "metadata": {},
   "outputs": [],
   "source": [
    "siif = control_honorarios.import_siif_comprobantes()\n",
    "itables.show(siif, column_filters=\"footer\", dom=\"lrtip\")"
   ]
  },
  {
   "attachments": {},
   "cell_type": "markdown",
   "metadata": {},
   "source": [
    "## EXTRA:"
   ]
  },
  {
   "cell_type": "markdown",
   "metadata": {},
   "source": [
    "### Excel"
   ]
  },
  {
   "cell_type": "code",
   "execution_count": null,
   "metadata": {},
   "outputs": [],
   "source": [
    "with pd.ExcelWriter('control_honorarios.xlsx') as writer:\n",
    "    siif_vs_slave.to_excel(writer, sheet_name='siif_vs_slave', index=False)\n",
    "    slave_vs_sgf.to_excel(writer, sheet_name='slave_vs_sgf', index=False)\n",
    "    slave.to_excel(writer, sheet_name='slave', index=False)\n",
    "    siif.to_excel(writer, sheet_name='siif', index=False)\n",
    "    sgf.to_excel(writer, sheet_name='sgf', index=False)"
   ]
  }
 ],
 "metadata": {
  "kernelspec": {
   "display_name": "Python 3.8.5 ('invicoctrlpy_env': venv)",
   "language": "python",
   "name": "python3"
  },
  "language_info": {
   "codemirror_mode": {
    "name": "ipython",
    "version": 3
   },
   "file_extension": ".py",
   "mimetype": "text/x-python",
   "name": "python",
   "nbconvert_exporter": "python",
   "pygments_lexer": "ipython3",
   "version": "3.8.5"
  },
  "orig_nbformat": 4,
  "vscode": {
   "interpreter": {
    "hash": "6658676a6853aed73c87d1c3c3a42e9e3200b017a0097464af5767205de40e74"
   }
  }
 },
 "nbformat": 4,
 "nbformat_minor": 2
}
