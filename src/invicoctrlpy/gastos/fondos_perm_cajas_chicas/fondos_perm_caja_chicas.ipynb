{
 "cells": [
  {
   "attachments": {},
   "cell_type": "markdown",
   "metadata": {},
   "source": [
    "# SIIF Fondos Permanentes y Cajas Chicas"
   ]
  },
  {
   "attachments": {},
   "cell_type": "markdown",
   "metadata": {},
   "source": [
    "..."
   ]
  },
  {
   "cell_type": "markdown",
   "metadata": {},
   "source": []
  },
  {
   "attachments": {},
   "cell_type": "markdown",
   "metadata": {},
   "source": [
    "## Datos iniciales"
   ]
  },
  {
   "attachments": {},
   "cell_type": "markdown",
   "metadata": {},
   "source": [
    "El único dato que debería modificarse es el relativo al ejercicio sobre el cual se pretende trabajar."
   ]
  },
  {
   "cell_type": "code",
   "execution_count": null,
   "metadata": {},
   "outputs": [],
   "source": [
    "from invicoctrlpy.gastos.fondos_perm_cajas_chicas.fondos_perm_cajas_chicas import FondosPermCajasChicas\n",
    "\n",
    "import pandas as pd\n",
    "pd.options.display.float_format = '{:,.2f}'.format\n",
    "pd.set_option('mode.chained_assignment',None)\n",
    "\n",
    "import itables\n",
    "itables.options.lengthMenu = [10, 50, 100, -1]\n",
    "itables.options.maxBytes = 0\n",
    "\n",
    "from  pivottablejs import pivot_ui\n",
    "\n",
    "EJERCICIO = None #['2020', '2021']\n",
    "UPDATE_DB = False\n",
    "fondos_perm = FondosPermCajasChicas(ejercicio=EJERCICIO, update_db=UPDATE_DB)"
   ]
  },
  {
   "attachments": {},
   "cell_type": "markdown",
   "metadata": {},
   "source": [
    "## Controles"
   ]
  },
  {
   "attachments": {},
   "cell_type": "markdown",
   "metadata": {},
   "source": [
    "### Fondos Permanentes y Cajas Chicas"
   ]
  },
  {
   "attachments": {},
   "cell_type": "markdown",
   "metadata": {},
   "source": [
    "..."
   ]
  },
  {
   "cell_type": "code",
   "execution_count": null,
   "metadata": {},
   "outputs": [],
   "source": [
    "fondos_perm = fondos_perm.import_siif_comprobantes_fondos_perm()\n",
    "itables.show(fondos_perm, column_filters=\"footer\", dom=\"lrtip\")"
   ]
  },
  {
   "attachments": {},
   "cell_type": "markdown",
   "metadata": {},
   "source": [
    "## EXTRA:"
   ]
  },
  {
   "cell_type": "markdown",
   "metadata": {},
   "source": [
    "### Excel"
   ]
  },
  {
   "cell_type": "code",
   "execution_count": null,
   "metadata": {},
   "outputs": [],
   "source": [
    "# with pd.ExcelWriter('control_recursos.xlsx') as writer:\n",
    "#     control_mes_grupo.to_excel(writer, sheet_name='control_mes', index=False)\n",
    "#     control_mes_gpo_cta_cte.to_excel(writer, sheet_name='control_mes_cta_cte', index=False)\n",
    "#     siif.to_excel(writer, sheet_name='siif', index=False)\n",
    "#     sscc.to_excel(writer, sheet_name='sscc', index=False)"
   ]
  }
 ],
 "metadata": {
  "kernelspec": {
   "display_name": "Python 3.8.5 ('invicoctrlpy_env': venv)",
   "language": "python",
   "name": "python3"
  },
  "language_info": {
   "codemirror_mode": {
    "name": "ipython",
    "version": 3
   },
   "file_extension": ".py",
   "mimetype": "text/x-python",
   "name": "python",
   "nbconvert_exporter": "python",
   "pygments_lexer": "ipython3",
   "version": "3.10.6"
  },
  "orig_nbformat": 4,
  "vscode": {
   "interpreter": {
    "hash": "6658676a6853aed73c87d1c3c3a42e9e3200b017a0097464af5767205de40e74"
   }
  }
 },
 "nbformat": 4,
 "nbformat_minor": 2
}
