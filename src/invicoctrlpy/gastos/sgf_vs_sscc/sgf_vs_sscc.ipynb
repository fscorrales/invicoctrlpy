{
 "cells": [
  {
   "attachments": {},
   "cell_type": "markdown",
   "metadata": {},
   "source": [
    "# CONTROL DE EGRESOS ENTRE SGF Y SSCC"
   ]
  },
  {
   "attachments": {},
   "cell_type": "markdown",
   "metadata": {},
   "source": [
    "La finalidad del presente control es cruzar la información relativa a los egresos del Sistema de Gestión Financiera (SGF) y el Sistema de Seguimiento de Cuentas Corrientes (SSCC). Fue pensado, especialmente, para detectar errores en la transferencia de retenciones entre cuentas (con énfasis en aquellas relacionadas con los fondos provinciales como la 130832-03) de forma tal que el saldo de las mismas sea correcto."
   ]
  },
  {
   "attachments": {},
   "cell_type": "markdown",
   "metadata": {},
   "source": [
    "## Datos iniciales"
   ]
  },
  {
   "attachments": {},
   "cell_type": "markdown",
   "metadata": {},
   "source": [
    "El único dato que debería modificarse es el relativo al ejercicio sobre el cual se pretende trabajar."
   ]
  },
  {
   "cell_type": "code",
   "execution_count": null,
   "metadata": {},
   "outputs": [],
   "source": [
    "from invicoctrlpy.gastos.sgf_vs_sscc.sgf_vs_sscc import SGFVsSSCC\n",
    "\n",
    "import pandas as pd\n",
    "pd.options.display.float_format = '{:,.2f}'.format\n",
    "\n",
    "import itables\n",
    "itables.options.lengthMenu = [10, 50, 100, -1]\n",
    "itables.options.maxBytes = 0\n",
    "\n",
    "EJERCICIO = '2022'\n",
    "\n",
    "sgf_vs_sscc = SGFVsSSCC(ejercicio=EJERCICIO)"
   ]
  },
  {
   "attachments": {},
   "cell_type": "markdown",
   "metadata": {},
   "source": [
    "## Controles"
   ]
  },
  {
   "attachments": {},
   "cell_type": "markdown",
   "metadata": {},
   "source": [
    "### Control por Mes y Cuenta Corrientes"
   ]
  },
  {
   "attachments": {},
   "cell_type": "markdown",
   "metadata": {},
   "source": [
    "El presente reporte agrupa la información del SGF y el SSCC por mes y cta_cte para luego cruzarlos. En la última columna se expone las diferencias detectas. "
   ]
  },
  {
   "cell_type": "code",
   "execution_count": null,
   "metadata": {},
   "outputs": [],
   "source": [
    "control_mes_cta_cte = sgf_vs_sscc.control_mes_cta_cte()\n",
    "itables.show(control_mes_cta_cte, column_filters=\"footer\", dom=\"lrtip\")"
   ]
  },
  {
   "attachments": {},
   "cell_type": "markdown",
   "metadata": {},
   "source": [
    "## Tablas Auxiliares"
   ]
  },
  {
   "attachments": {},
   "cell_type": "markdown",
   "metadata": {},
   "source": [
    "### Sistema de Seguimiento de Cuentas Corrientes SSCC"
   ]
  },
  {
   "cell_type": "code",
   "execution_count": null,
   "metadata": {},
   "outputs": [],
   "source": [
    "banco_invico = sgf_vs_sscc.sscc_banco_invico\n",
    "itables.show(banco_invico, column_filters=\"footer\", dom=\"lrtip\")"
   ]
  },
  {
   "attachments": {},
   "cell_type": "markdown",
   "metadata": {},
   "source": [
    "### Resumen de Rendiciones por Proveedor SGF"
   ]
  },
  {
   "cell_type": "code",
   "execution_count": null,
   "metadata": {},
   "outputs": [],
   "source": [
    "resumen_rend = sgf_vs_sscc.sgf_resumen_rend\n",
    "itables.show(resumen_rend, column_filters=\"footer\", dom=\"lrtip\")"
   ]
  }
 ],
 "metadata": {
  "kernelspec": {
   "display_name": "invicoctrlpy_env",
   "language": "python",
   "name": "python3"
  },
  "language_info": {
   "codemirror_mode": {
    "name": "ipython",
    "version": 3
   },
   "file_extension": ".py",
   "mimetype": "text/x-python",
   "name": "python",
   "nbconvert_exporter": "python",
   "pygments_lexer": "ipython3",
   "version": "3.10.6 (main, Nov 14 2022, 16:10:14) [GCC 11.3.0]"
  },
  "orig_nbformat": 4,
  "vscode": {
   "interpreter": {
    "hash": "6144ef642a4dc858b1d6132c6d6d436505e6e8c24809058f738569b45e78dd01"
   }
  }
 },
 "nbformat": 4,
 "nbformat_minor": 2
}
