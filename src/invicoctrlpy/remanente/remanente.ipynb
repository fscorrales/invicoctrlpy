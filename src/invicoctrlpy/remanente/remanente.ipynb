{
 "cells": [
  {
   "attachments": {},
   "cell_type": "markdown",
   "metadata": {},
   "source": [
    "# REMANENTE Y MAL LLAMADO REMANENTE"
   ]
  },
  {
   "attachments": {},
   "cell_type": "markdown",
   "metadata": {},
   "source": [
    "La finalidad de los presentes reportes es exponer la ejecución presupuestaria de obras (partidas 421 y 422) y, más específcamente, la ejecución de Módulos Básicos (Programa 29). La información contenida en los mismos será útil para tareas de control y, especialmente, para la elaboración de los Estados Contables"
   ]
  },
  {
   "attachments": {},
   "cell_type": "markdown",
   "metadata": {},
   "source": [
    "## Datos iniciales"
   ]
  },
  {
   "attachments": {},
   "cell_type": "markdown",
   "metadata": {},
   "source": [
    "El único dato que debería modificarse es el relativo al ejercicio sobre el cual se pretende trabajar."
   ]
  },
  {
   "cell_type": "code",
   "execution_count": null,
   "metadata": {},
   "outputs": [],
   "source": [
    "from invicoctrlpy.remanente.remanente import Remamente\n",
    "\n",
    "import pandas as pd\n",
    "pd.options.display.float_format = '{:,.2f}'.format\n",
    "pd.set_option('mode.chained_assignment',None)\n",
    "\n",
    "import itables\n",
    "itables.options.lengthMenu = [10, 50, 100, -1]\n",
    "itables.options.maxBytes = 0\n",
    "\n",
    "from  pivottablejs import pivot_ui\n",
    "\n",
    "EJERCICIO = '2022'\n",
    "UPDATE_DB = False\n",
    "remamente = Remamente(ejercicio=EJERCICIO, update_db=UPDATE_DB)"
   ]
  },
  {
   "attachments": {},
   "cell_type": "markdown",
   "metadata": {},
   "source": [
    "## Reportes"
   ]
  },
  {
   "attachments": {},
   "cell_type": "markdown",
   "metadata": {},
   "source": [
    "### Cálculo Remanente Método I (Saldo Banco SSCC - Deuda Flotante SIIF)"
   ]
  },
  {
   "attachments": {},
   "cell_type": "markdown",
   "metadata": {},
   "source": [
    "El cálculo de Remanente por método I consiste en restarle al saldo real de Banco SSCC (Resumen Gral de Saldos), al cierre del ejercicio, la deuda flotante (reporte SIIF rdeu012) del SIIF al 31/12 del mismo ejercicio. Tener en cuenta las siguiente consideraciones:\n",
    " - Las fuentes 10 y 12 del SIIF son ejecutadas con las cuentas corrientes 130832-03 y 130832-06\n",
    " - La fuente 13 del SIIF es ejecutada con la cuenta corriente 130832-16 a lo que hay que adicionarle 4.262.062,77 que quedó de saldo transferido por la UCAPFI en 09/2019 en la cuenta 22101105-48 del programa EPAM Habitat.\n",
    " - El resto del Saldo Banco SSCC corresponde a la fuente 11\n",
    " - Tener en cuenta los ajustes contables que buscan regularizar comprobantes del SIIF que quedaron en la Deuda Flotante y no deben formar parte de la misma. **Este control no los considera** "
   ]
  },
  {
   "cell_type": "code",
   "execution_count": null,
   "metadata": {},
   "outputs": [],
   "source": [
    "remanente_met_1 = remamente.remanente_met_1()\n",
    "itables.show(remanente_met_1, column_filters=\"footer\", dom=\"lrtip\")"
   ]
  },
  {
   "attachments": {},
   "cell_type": "markdown",
   "metadata": {},
   "source": [
    "### Cálculo Remanente Método II (Recursos SIIF - Gastos SIIF)"
   ]
  },
  {
   "attachments": {},
   "cell_type": "markdown",
   "metadata": {},
   "source": [
    "El cálculo de Remanente por método II consiste en restarle a los Recursos SIIF (reporte SIIF rci02), ingresados en el ejercicio bajo análisis, los Gastos SIIF (reporte SIIF rf602) de dicho ejercicio. Tener en cuenta las siguiente consideraciones:\n",
    " - Tener en cuenta los ajustes contables que buscan regularizar comprobantes del SIIF que quedaron en la Deuda Flotante y no deben formar parte de la misma. **Este control no los considera** "
   ]
  },
  {
   "cell_type": "code",
   "execution_count": null,
   "metadata": {},
   "outputs": [],
   "source": [
    "remanente_met_2 = remamente.remanente_met_2()\n",
    "itables.show(remanente_met_2, column_filters=\"footer\", dom=\"lrtip\")"
   ]
  },
  {
   "cell_type": "markdown",
   "metadata": {},
   "source": [
    "### Cálculo Remanente Método II (Recursos SIIF - Gastos SIIF) histórico sin incluir fte 11"
   ]
  },
  {
   "cell_type": "markdown",
   "metadata": {},
   "source": [
    "Mismo caso que el anterior solo que esta vez se calcula para todos los ejercicios y se compara lo que da por Método II contra el Remanente realmente solicitado en cada ejercicio."
   ]
  },
  {
   "cell_type": "code",
   "execution_count": null,
   "metadata": {},
   "outputs": [],
   "source": [
    "remanente_met_2_hist = remamente.remanente_met_2_hist()\n",
    "itables.show(remanente_met_2_hist, column_filters=\"footer\", dom=\"lrtip\")"
   ]
  },
  {
   "attachments": {},
   "cell_type": "markdown",
   "metadata": {},
   "source": [
    "### Diferencia entre Métodos de Remanente"
   ]
  },
  {
   "attachments": {},
   "cell_type": "markdown",
   "metadata": {},
   "source": [
    "Completar"
   ]
  },
  {
   "cell_type": "code",
   "execution_count": null,
   "metadata": {},
   "outputs": [],
   "source": [
    "remamente_dif_met = remamente.remanente_dif_met()\n",
    "remamente_dif_met\n",
    "#itables.show(remamente_dif_met, column_filters=\"footer\", dom=\"lrtip\")"
   ]
  },
  {
   "attachments": {},
   "cell_type": "markdown",
   "metadata": {},
   "source": [
    "## Tablas Auxiliares"
   ]
  },
  {
   "attachments": {},
   "cell_type": "markdown",
   "metadata": {},
   "source": [
    "### Saldo Banco SSCC al cierre del Ejercicio"
   ]
  },
  {
   "cell_type": "code",
   "execution_count": null,
   "metadata": {},
   "outputs": [],
   "source": [
    "saldo_banco_sscc = remamente.import_sdo_banco_invico(EJERCICIO)\n",
    "itables.show(saldo_banco_sscc, column_filters=\"footer\", dom=\"lrtip\")"
   ]
  },
  {
   "attachments": {},
   "cell_type": "markdown",
   "metadata": {},
   "source": [
    "### Ejecución ICARO con Descripción hasta el Ejercicio seleccionado"
   ]
  },
  {
   "cell_type": "code",
   "execution_count": null,
   "metadata": {},
   "outputs": [],
   "source": [
    "# icaro_carga_desc_siif = ejecucion_obras.import_icaro_carga_desc(es_desc_siif=False)\n",
    "# itables.show(icaro_carga_desc_siif, column_filters=\"footer\", dom=\"lrtip\")"
   ]
  },
  {
   "attachments": {},
   "cell_type": "markdown",
   "metadata": {},
   "source": [
    "### Ejecución ICARO Módulos Básicos con Descripción hasta el Ejercicio seleccionado"
   ]
  },
  {
   "cell_type": "code",
   "execution_count": null,
   "metadata": {},
   "outputs": [],
   "source": [
    "# icaro_mod_bas = ejecucion_obras.import_icaro_mod_basicos(es_desc_siif=True)\n",
    "# itables.show(icaro_mod_bas, column_filters=\"footer\", dom=\"lrtip\")"
   ]
  },
  {
   "attachments": {},
   "cell_type": "markdown",
   "metadata": {},
   "source": [
    "## EXTRA:"
   ]
  },
  {
   "cell_type": "markdown",
   "metadata": {},
   "source": [
    "### Excel"
   ]
  },
  {
   "cell_type": "code",
   "execution_count": null,
   "metadata": {},
   "outputs": [],
   "source": [
    "# with pd.ExcelWriter('Planillometro al ' + EJERCICIO + '.xlsx') as writer:\n",
    "#     siif_ejec_obras_actual.to_excel(writer, sheet_name='EjecuccionSIIF' + EJERCICIO, index=False)\n",
    "#     planillometro.to_excel(writer, sheet_name='Planillometro', index=False)\n",
    "#     planillometro_full_icaro = ejecucion_obras.reporte_planillometro(full_icaro=True)\n",
    "#     planillometro_full_icaro.to_excel(writer, sheet_name='PlanillometroFullIcaro', index=False)\n",
    "\n",
    "# with pd.ExcelWriter('Módulos Básicos Ejecutados Hasta el ' + EJERCICIO + '.xlsx') as writer:\n",
    "#     siif_ejec_mod_basicos = siif_ejec_obras_actual.copy()\n",
    "#     siif_ejec_mod_basicos = siif_ejec_mod_basicos.loc[siif_ejec_mod_basicos['estructura'].str.startswith('29')]\n",
    "#     siif_ejec_mod_basicos.to_excel(writer, sheet_name='EjecuccionSIIF' + EJERCICIO, index=False)\n",
    "#     icaro_mod_basicos_convenios.to_excel(writer, sheet_name='ModBasicosPorConvFte11', index=False)\n",
    "#     icaro_mod_basicos_ejercicios = ejecucion_obras.reporte_icaro_mod_basicos(por_convenio=False)\n",
    "#     icaro_mod_basicos_ejercicios.to_excel(writer, sheet_name='ModBasicosPorConvEjercicio', index=False)"
   ]
  }
 ],
 "metadata": {
  "kernelspec": {
   "display_name": "Python 3.8.5 ('invicoctrlpy_env': venv)",
   "language": "python",
   "name": "python3"
  },
  "language_info": {
   "codemirror_mode": {
    "name": "ipython",
    "version": 3
   },
   "file_extension": ".py",
   "mimetype": "text/x-python",
   "name": "python",
   "nbconvert_exporter": "python",
   "pygments_lexer": "ipython3",
   "version": "3.8.5"
  },
  "orig_nbformat": 4,
  "vscode": {
   "interpreter": {
    "hash": "6658676a6853aed73c87d1c3c3a42e9e3200b017a0097464af5767205de40e74"
   }
  }
 },
 "nbformat": 4,
 "nbformat_minor": 2
}
