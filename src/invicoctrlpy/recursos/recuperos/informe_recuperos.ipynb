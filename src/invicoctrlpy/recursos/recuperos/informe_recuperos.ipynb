{
 "cells": [
  {
   "attachments": {},
   "cell_type": "markdown",
   "metadata": {},
   "source": [
    "# Informe Recuperos"
   ]
  },
  {
   "attachments": {},
   "cell_type": "markdown",
   "metadata": {},
   "source": [
    "La finalidad del siguiente informe es dar a conocer ciertas inconsistencias detectadas entre los reportes emitidos por el Sistema Recuperos INVICO. De más está decir que no es posible ni es el objetivo del presente emitir juicio alguno sobre el sistema en sí sino solo de sus reportes siendo estos un output del primero.\n",
    "Para entender la importancia que reviste el mencionado sistema y sus reportes basta con mencionar que, aproximadamente, el **65% del Activo del INVICO está formado por los saldos de recuperos a cobrar** ($5800 millones) superando ampliamente a otros ítems como saldos disponibles en banco ($1600 millones), obras en ejecución y terminadas entre otros de menor relevancia.\n",
    "A estos efectos, es necesario contar con información pertinente y confiable elaborada de manera sistémica bajo criterios que se mantenga uniforme a lo largo del tiempo respecto a los **saldos de recuperos a cobrar y las causas de sus variaciones**. "
   ]
  },
  {
   "attachments": {},
   "cell_type": "markdown",
   "metadata": {},
   "source": [
    "## Datos iniciales"
   ]
  },
  {
   "attachments": {},
   "cell_type": "markdown",
   "metadata": {},
   "source": [
    "El único dato que debería modificarse es el relativo al ejercicio sobre el cual se pretende trabajar."
   ]
  },
  {
   "cell_type": "code",
   "execution_count": null,
   "metadata": {},
   "outputs": [],
   "source": [
    "from invicoctrlpy.recursos.recuperos.recuperos import Recuperos\n",
    "\n",
    "import pandas as pd\n",
    "pd.options.display.float_format = '{:,.2f}'.format\n",
    "pd.set_option('mode.chained_assignment',None)\n",
    "\n",
    "import itables\n",
    "itables.options.lengthMenu = [10, 50, 100, -1]\n",
    "itables.options.maxBytes = 0\n",
    "\n",
    "EJERCICIO = '2022'\n",
    "UPDATE_DB = False\n",
    "recuperos = Recuperos(ejercicio=EJERCICIO, update_db=UPDATE_DB)"
   ]
  },
  {
   "cell_type": "markdown",
   "metadata": {},
   "source": [
    "## Variación de saldos de recuperos a cobrar"
   ]
  },
  {
   "cell_type": "code",
   "execution_count": null,
   "metadata": {},
   "outputs": [],
   "source": [
    "control_saldos_recuperos_cobrar_variacion = recuperos.control_saldos_recuperos_cobrar_variacion()\n",
    "itables.show(control_saldos_recuperos_cobrar_variacion, column_filters=\"footer\", dom=\"lrtip\")"
   ]
  },
  {
   "attachments": {},
   "cell_type": "markdown",
   "metadata": {},
   "source": [
    "## Evolución de saldos por barrio"
   ]
  },
  {
   "cell_type": "code",
   "execution_count": null,
   "metadata": {},
   "outputs": [],
   "source": [
    "control_suma_saldo_barrio_variacion = recuperos.control_suma_saldo_barrio_variacion()\n",
    "itables.show(control_suma_saldo_barrio_variacion, column_filters=\"footer\", dom=\"lrtip\")"
   ]
  },
  {
   "attachments": {},
   "cell_type": "markdown",
   "metadata": {},
   "source": [
    "## EXTRA:"
   ]
  },
  {
   "cell_type": "markdown",
   "metadata": {},
   "source": [
    "### Excel"
   ]
  },
  {
   "cell_type": "code",
   "execution_count": null,
   "metadata": {},
   "outputs": [],
   "source": [
    "# with pd.ExcelWriter('control_recursos.xlsx') as writer:\n",
    "#     control_mes_grupo.to_excel(writer, sheet_name='control_mes', index=False)\n",
    "#     control_mes_gpo_cta_cte.to_excel(writer, sheet_name='control_mes_cta_cte', index=False)\n",
    "#     siif.to_excel(writer, sheet_name='siif', index=False)\n",
    "#     sscc.to_excel(writer, sheet_name='sscc', index=False)"
   ]
  }
 ],
 "metadata": {
  "kernelspec": {
   "display_name": "Python 3.8.5 ('invicoctrlpy_env': venv)",
   "language": "python",
   "name": "python3"
  },
  "language_info": {
   "codemirror_mode": {
    "name": "ipython",
    "version": 3
   },
   "file_extension": ".py",
   "mimetype": "text/x-python",
   "name": "python",
   "nbconvert_exporter": "python",
   "pygments_lexer": "ipython3",
   "version": "3.8.5"
  },
  "orig_nbformat": 4,
  "vscode": {
   "interpreter": {
    "hash": "6658676a6853aed73c87d1c3c3a42e9e3200b017a0097464af5767205de40e74"
   }
  }
 },
 "nbformat": 4,
 "nbformat_minor": 2
}
