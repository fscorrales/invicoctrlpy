{
 "cells": [
  {
   "attachments": {},
   "cell_type": "markdown",
   "metadata": {},
   "source": [
    "# Informe Recuperos"
   ]
  },
  {
   "attachments": {},
   "cell_type": "markdown",
   "metadata": {},
   "source": [
    "La finalidad del siguiente informe es dar a conocer ciertas inconsistencias detectadas entre los reportes emitidos por el Sistema Recuperos INVICO. De más está decir que no es posible ni es el objetivo del presente emitir juicio alguno sobre el sistema en sí sino solo de sus reportes siendo estos un output del primero.\n",
    "Para entender la importancia que reviste el mencionado sistema y sus reportes basta con mencionar que, aproximadamente, el **65% del Activo del INVICO está formado por los saldos de recuperos a cobrar** ($5800 millones) superando ampliamente a otros ítems como saldos disponibles en banco ($1600 millones), obras en ejecución y terminadas entre otros de menor relevancia.\n",
    "A estos efectos, es necesario contar con información pertinente y confiable elaborada de manera sistémica bajo criterios que se mantenga uniforme a lo largo del tiempo respecto a los **saldos de recuperos a cobrar y las causas de sus variaciones**. "
   ]
  },
  {
   "attachments": {},
   "cell_type": "markdown",
   "metadata": {},
   "source": [
    "## Datos iniciales"
   ]
  },
  {
   "attachments": {},
   "cell_type": "markdown",
   "metadata": {},
   "source": [
    "El único dato que debería modificarse es el relativo al ejercicio sobre el cual se pretende trabajar."
   ]
  },
  {
   "cell_type": "code",
   "execution_count": null,
   "metadata": {},
   "outputs": [],
   "source": [
    "from invicoctrlpy.recursos.recuperos.recuperos import Recuperos\n",
    "\n",
    "import pandas as pd\n",
    "pd.options.display.float_format = '{:,.2f}'.format\n",
    "pd.set_option('mode.chained_assignment',None)\n",
    "\n",
    "import itables\n",
    "itables.options.lengthMenu = [10, 50, 100, -1]\n",
    "itables.options.maxBytes = 0\n",
    "\n",
    "EJERCICIO = '2022'\n",
    "UPDATE_DB = False\n",
    "recuperos = Recuperos(ejercicio=EJERCICIO, update_db=UPDATE_DB)"
   ]
  },
  {
   "cell_type": "markdown",
   "metadata": {},
   "source": [
    "## Recuperos a cobrar"
   ]
  },
  {
   "cell_type": "markdown",
   "metadata": {},
   "source": [
    "### Evolución del saldo"
   ]
  },
  {
   "cell_type": "markdown",
   "metadata": {},
   "source": [
    "Una de las primeras cuestiones a analizar es la evolución, en el tiempo, del saldo final de Recuperos a Cobrar. El siguiente gráfico permite reflejar esta cuestión y surge del [Informe de Saldos por Barrio](https://gv.invico.gov.ar/App/Recupero/Informes/InformeSaldosPorBarrio.aspx) Probablemente se trate de uno de uno de los reportes más importantes del Sistema Recuperos. El saldo del mismo y su evolución es reflejado fielmente en los Estados Contables de la institución y el Dpto. Recuperos lo respeta, en igual medida, en su informe final de ejercicio. En cuanto a la razonabilidad del saldo final expuesto, no hay forma de emitir juicio sobre el mismo y no queda otra que tomarlo como válido. \n"
   ]
  },
  {
   "cell_type": "code",
   "execution_count": null,
   "metadata": {},
   "outputs": [],
   "source": [
    "recuperos.graficar_saldos_barrio()"
   ]
  },
  {
   "cell_type": "markdown",
   "metadata": {},
   "source": [
    "Del análisis del gráfico expuesto no quedan dudas que el ejercicio 2022 presenta un comportamiento anormal en lo que evolución del saldo se refiere. Un análisis más minucioso de sus causas permitirá dilucidar la cuestión."
   ]
  },
  {
   "cell_type": "markdown",
   "metadata": {},
   "source": [
    "### Motivos de variación del saldo"
   ]
  },
  {
   "cell_type": "markdown",
   "metadata": {},
   "source": [
    "Una primera aproximación a esta cuestión la podemos observar en el [Informe Evolucion De Saldos Por Barrio](https://gv.invico.gov.ar/App/Recupero/Informes/InformeEvolucionDeSaldosPorBarrio.aspx). Similar al [Informe de Saldos por Barrio](https://gv.invico.gov.ar/App/Recupero/Informes/InformeSaldosPorBarrio.aspx) más la adición de dos columnas (amortiza y cambios) que intentan explicar las causas que motivaron la variación en saldos indexando todo por código de barrio. Es aquí donde el **Sistema Recuperos presenta su primera falla**. Si uno procede a realizar la **suma algebraica** de la columnas del informe, **no es posible llegar al saldo final del mismo**. La siguiente tabla permite observar la evolución de la difencia entre el saldo final expuesto y el calculado por suma algebraica. Sin embargo, cabe aclarar que, **para el 2022, la diferencia es poco significativa**."
   ]
  },
  {
   "cell_type": "code",
   "execution_count": null,
   "metadata": {},
   "outputs": [],
   "source": [
    "control_suma_saldo_barrio_variacion = recuperos.control_suma_saldo_barrio_variacion()\n",
    "itables.show(control_suma_saldo_barrio_variacion, column_filters=\"footer\", dom=\"lrtip\")"
   ]
  },
  {
   "attachments": {},
   "cell_type": "markdown",
   "metadata": {},
   "source": [
    "A efectos de profundizar en el análisis de causas el reporte ideal es el [Informe de Evolución Saldos Por Motivos](https://gv.invico.gov.ar/App/Recupero/Informes/InformeEvolucionDeSaldosPorMotivos.aspx). Este reporte no es otra cosa que la descomposición de la columna cambios de lo visto en el cuadro anterior."
   ]
  },
  {
   "cell_type": "code",
   "execution_count": null,
   "metadata": {},
   "outputs": [],
   "source": [
    "rank_saldo_motivo_actual = recuperos.ranking_saldo_motivos_actual().head()\n",
    "itables.show(rank_saldo_motivo_actual, column_filters=\"footer\", dom=\"lrtip\")"
   ]
  },
  {
   "cell_type": "code",
   "execution_count": null,
   "metadata": {},
   "outputs": [],
   "source": [
    "mejores_motivos = recuperos.control_motivos_actuales_otros_ejercicio()\n",
    "itables.show(mejores_motivos, column_filters=\"footer\", dom=\"lrtip\")"
   ]
  },
  {
   "attachments": {},
   "cell_type": "markdown",
   "metadata": {},
   "source": [
    "**Aquí nuevamente el Sistema Recuperos presenta fallas** y es que el **saldo final de este reporte no coincide con lo visto en los anteriores reportes**. Como puede observarse en el siguiente gráfico, las diferencias son más evidentes en los ejercicios 2019 y 2020 (idéntico a lo visto en el cuadro anterior) y alcanza el valor de $15 millones para el ejercicio 2022."
   ]
  },
  {
   "cell_type": "code",
   "execution_count": null,
   "metadata": {},
   "outputs": [],
   "source": [
    "recuperos.graficar_dif_saldo_final_reportes()"
   ]
  },
  {
   "attachments": {},
   "cell_type": "markdown",
   "metadata": {},
   "source": [
    "## Evolución de saldos por barrio"
   ]
  },
  {
   "cell_type": "code",
   "execution_count": null,
   "metadata": {},
   "outputs": [],
   "source": [
    "control_suma_saldo_barrio_variacion = recuperos.control_suma_saldo_barrio_variacion()\n",
    "itables.show(control_suma_saldo_barrio_variacion, column_filters=\"footer\", dom=\"lrtip\")"
   ]
  },
  {
   "attachments": {},
   "cell_type": "markdown",
   "metadata": {},
   "source": [
    "## EXTRA:"
   ]
  },
  {
   "cell_type": "markdown",
   "metadata": {},
   "source": [
    "### Excel"
   ]
  },
  {
   "cell_type": "code",
   "execution_count": null,
   "metadata": {},
   "outputs": [],
   "source": [
    "# with pd.ExcelWriter('control_recursos.xlsx') as writer:\n",
    "#     control_mes_grupo.to_excel(writer, sheet_name='control_mes', index=False)\n",
    "#     control_mes_gpo_cta_cte.to_excel(writer, sheet_name='control_mes_cta_cte', index=False)\n",
    "#     siif.to_excel(writer, sheet_name='siif', index=False)\n",
    "#     sscc.to_excel(writer, sheet_name='sscc', index=False)"
   ]
  }
 ],
 "metadata": {
  "kernelspec": {
   "display_name": "Python 3.8.5 ('invicoctrlpy_env': venv)",
   "language": "python",
   "name": "python3"
  },
  "language_info": {
   "codemirror_mode": {
    "name": "ipython",
    "version": 3
   },
   "file_extension": ".py",
   "mimetype": "text/x-python",
   "name": "python",
   "nbconvert_exporter": "python",
   "pygments_lexer": "ipython3",
   "version": "3.10.6"
  },
  "orig_nbformat": 4,
  "vscode": {
   "interpreter": {
    "hash": "6658676a6853aed73c87d1c3c3a42e9e3200b017a0097464af5767205de40e74"
   }
  }
 },
 "nbformat": 4,
 "nbformat_minor": 2
}
