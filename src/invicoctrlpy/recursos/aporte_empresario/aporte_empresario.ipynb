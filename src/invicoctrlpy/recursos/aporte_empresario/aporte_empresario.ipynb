{
 "cells": [
  {
   "attachments": {},
   "cell_type": "markdown",
   "metadata": {},
   "source": [
    "# Control de Aporte Empresario 3% INVICO"
   ]
  },
  {
   "attachments": {},
   "cell_type": "markdown",
   "metadata": {},
   "source": [
    "## Datos iniciales"
   ]
  },
  {
   "attachments": {},
   "cell_type": "markdown",
   "metadata": {},
   "source": [
    "El único dato que debería modificarse es el relativo al ejercicio sobre el cual se pretende trabajar."
   ]
  },
  {
   "cell_type": "code",
   "execution_count": null,
   "metadata": {},
   "outputs": [],
   "source": [
    "from invicoctrlpy.recursos.aporte_empresario.aporte_empresario import ControlAporteEmpresario\n",
    "\n",
    "import pandas as pd\n",
    "pd.options.display.float_format = '{:,.2f}'.format\n",
    "pd.set_option('mode.chained_assignment',None)\n",
    "\n",
    "import itables\n",
    "itables.options.lengthMenu = [10, 50, 100, -1]\n",
    "itables.options.maxBytes = 0\n",
    "\n",
    "from  pivottablejs import pivot_ui\n",
    "\n",
    "EJERCICIO = ['2023']\n",
    "UPDATE_DB = False\n",
    "control = ControlAporteEmpresario(ejercicio=EJERCICIO, update_db=UPDATE_DB)"
   ]
  },
  {
   "attachments": {},
   "cell_type": "markdown",
   "metadata": {},
   "source": [
    "## Controles Cruzados"
   ]
  },
  {
   "attachments": {},
   "cell_type": "markdown",
   "metadata": {},
   "source": [
    "### SIIF vs Banco INVICO (SSCC)"
   ]
  },
  {
   "cell_type": "code",
   "execution_count": null,
   "metadata": {},
   "outputs": [],
   "source": [
    "recurso_vs_retencion = control.siif_recurso_vs_retencion_337()\n",
    "itables.show(recurso_vs_retencion, column_filters=\"footer\", dom=\"lrtip\")"
   ]
  },
  {
   "attachments": {},
   "cell_type": "markdown",
   "metadata": {},
   "source": [
    "## Tablas Auxiliares"
   ]
  },
  {
   "attachments": {},
   "cell_type": "markdown",
   "metadata": {},
   "source": [
    "### SIIF Recurso 3% COMPLETO (rci02)"
   ]
  },
  {
   "cell_type": "code",
   "execution_count": null,
   "metadata": {},
   "outputs": [],
   "source": [
    "siif_recurso = control.import_siif_recurso_3_percent()\n",
    "itables.show(siif_recurso, column_filters=\"footer\", dom=\"lrtip\")"
   ]
  },
  {
   "cell_type": "markdown",
   "metadata": {},
   "source": [
    "### SIIF Recurso 3% RESUMEN (rci02)"
   ]
  },
  {
   "cell_type": "code",
   "execution_count": null,
   "metadata": {},
   "outputs": [],
   "source": [
    "siif_recurso_resumen = control.siif_summarize_recurso_3_percent()\n",
    "itables.show(siif_recurso_resumen, column_filters=\"footer\", dom=\"lrtip\")"
   ]
  },
  {
   "cell_type": "markdown",
   "metadata": {},
   "source": [
    "### SIIF Retencion 337 COMPLETO"
   ]
  },
  {
   "cell_type": "code",
   "execution_count": null,
   "metadata": {},
   "outputs": [],
   "source": [
    "siif_retencion_337 = control.import_siif_retencion_337()\n",
    "itables.show(siif_retencion_337, column_filters=\"footer\", dom=\"lrtip\")"
   ]
  },
  {
   "cell_type": "markdown",
   "metadata": {},
   "source": [
    "### SIIF Retencion 337 RESUMEN"
   ]
  },
  {
   "cell_type": "code",
   "execution_count": null,
   "metadata": {},
   "outputs": [],
   "source": [
    "siif_retencion_337_resumen = control.siif_summarize_retencion_337()\n",
    "itables.show(siif_retencion_337_resumen, column_filters=\"footer\", dom=\"lrtip\")"
   ]
  },
  {
   "attachments": {},
   "cell_type": "markdown",
   "metadata": {},
   "source": [
    "## EXTRA:"
   ]
  },
  {
   "cell_type": "markdown",
   "metadata": {},
   "source": [
    "### Excel"
   ]
  },
  {
   "cell_type": "code",
   "execution_count": null,
   "metadata": {},
   "outputs": [],
   "source": [
    "if isinstance(EJERCICIO, list):\n",
    "    ejercicio_str = EJERCICIO[-1]\n",
    "else:\n",
    "    ejercicio_str = EJERCICIO\n",
    "\n",
    "with pd.ExcelWriter('Control Aporte Empresario 3% ' + ejercicio_str + '.xlsx') as writer:\n",
    "    recurso_vs_retencion.to_excel(writer, sheet_name='SIIFVsSSCC', index=False)\n",
    "    siif_recurso.to_excel(writer, sheet_name='SIIFRecurso3Percent', index=False)\n",
    "    siif_recurso_resumen.to_excel(writer, sheet_name='SIIFRecurso3PercentResumen', index=False)\n",
    "    siif_retencion_337.to_excel(writer, sheet_name='Retencion337', index=False)\n",
    "    siif_retencion_337_resumen.to_excel(writer, sheet_name='Retencion337Resumen', index=False)\n"
   ]
  }
 ],
 "metadata": {
  "kernelspec": {
   "display_name": "Python 3.8.5 ('invicoctrlpy_env': venv)",
   "language": "python",
   "name": "python3"
  },
  "language_info": {
   "codemirror_mode": {
    "name": "ipython",
    "version": 3
   },
   "file_extension": ".py",
   "mimetype": "text/x-python",
   "name": "python",
   "nbconvert_exporter": "python",
   "pygments_lexer": "ipython3",
   "version": "3.8.5"
  },
  "orig_nbformat": 4,
  "vscode": {
   "interpreter": {
    "hash": "6658676a6853aed73c87d1c3c3a42e9e3200b017a0097464af5767205de40e74"
   }
  }
 },
 "nbformat": 4,
 "nbformat_minor": 2
}
