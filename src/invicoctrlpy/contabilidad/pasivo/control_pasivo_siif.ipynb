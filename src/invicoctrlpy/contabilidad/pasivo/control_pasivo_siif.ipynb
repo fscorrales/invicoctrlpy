{
 "cells": [
  {
   "attachments": {},
   "cell_type": "markdown",
   "metadata": {},
   "source": [
    "# Control Banco SIIF (Contabilidad) vs Banco Real (SSCC)"
   ]
  },
  {
   "attachments": {},
   "cell_type": "markdown",
   "metadata": {},
   "source": [
    "## Datos iniciales"
   ]
  },
  {
   "attachments": {},
   "cell_type": "markdown",
   "metadata": {},
   "source": [
    "El único dato que debería modificarse es el relativo al ejercicio sobre el cual se pretende trabajar."
   ]
  },
  {
   "cell_type": "code",
   "execution_count": null,
   "metadata": {},
   "outputs": [],
   "source": [
    "from invicoctrlpy.contabilidad.pasivo.control_pasivo_siif import ControlPasivo\n",
    "\n",
    "import pandas as pd\n",
    "pd.options.display.float_format = '{:,.2f}'.format\n",
    "pd.set_option('mode.chained_assignment',None)\n",
    "\n",
    "import itables\n",
    "itables.options.lengthMenu = [10, 50, 100, -1]\n",
    "itables.options.maxBytes = 0\n",
    "\n",
    "from  pivottablejs import pivot_ui\n",
    "\n",
    "EJERCICIO = ['2023']\n",
    "UPDATE_DB = False\n",
    "control_pasivo = ControlPasivo(ejercicio=EJERCICIO, update_db=UPDATE_DB)"
   ]
  },
  {
   "attachments": {},
   "cell_type": "markdown",
   "metadata": {},
   "source": [
    "## Controles Cruzados"
   ]
  },
  {
   "cell_type": "markdown",
   "metadata": {},
   "source": [
    "### Saldo Banco SIIF vs Saldo Final Banco INVICO"
   ]
  },
  {
   "attachments": {},
   "cell_type": "markdown",
   "metadata": {},
   "source": [
    "## Tablas Auxiliares"
   ]
  },
  {
   "cell_type": "markdown",
   "metadata": {},
   "source": [
    "### Deuda Flotante SIIF (rdeu012)"
   ]
  },
  {
   "cell_type": "code",
   "execution_count": null,
   "metadata": {},
   "outputs": [],
   "source": [
    "rdeu = control_pasivo.import_siif_rdeu012()\n",
    "itables.show(rdeu, column_filters=\"footer\", dom=\"lrtip\")"
   ]
  },
  {
   "attachments": {},
   "cell_type": "markdown",
   "metadata": {},
   "source": [
    "## EXTRA:"
   ]
  },
  {
   "cell_type": "markdown",
   "metadata": {},
   "source": [
    "### Excel"
   ]
  },
  {
   "cell_type": "code",
   "execution_count": null,
   "metadata": {},
   "outputs": [],
   "source": [
    "# if isinstance(EJERCICIO, list):\n",
    "#     ejercicio_str = EJERCICIO[-1]\n",
    "# else:\n",
    "#     ejercicio_str = EJERCICIO\n",
    "\n",
    "# with pd.ExcelWriter('Contabilidad (Control Banco) ' + ejercicio_str + '.xlsx') as writer:\n",
    "#       banco_siif_vs_invico.to_excel(writer, sheet_name='SIIFFVsInvico', index=False)\n",
    "#     icaro_vs_sgf.to_excel(writer, sheet_name='IcaroVsSGF', index=False)\n",
    "#     icaro_vs_siif.to_excel(writer, sheet_name='IcaroVsSiif', index=False)\n",
    "#     sgf_vs_sscc.to_excel(writer, sheet_name='SGFVsSSCC', index=False)\n",
    "#     banco_siif.to_excel(writer, sheet_name='IcaroCargaRetenciones', index=False)\n",
    "#     icaro_resumen.to_excel(writer, sheet_name='IcaroResumen', index=False)\n",
    "#     pagos_contratistas.to_excel(writer, sheet_name='PagoContratistasSIIF', index=False)\n",
    "#     pagos_retenciones.to_excel(writer, sheet_name='PagoRetencionesSIIF', index=False)\n",
    "#     siif_resumen.to_excel(writer, sheet_name='SiifResumen', index=False)\n",
    "#     rend_cuit.to_excel(writer, sheet_name='RendCuit', index=False)\n",
    "#     sgf_resumen.to_excel(writer, sheet_name='SGFResumen', index=False)\n",
    "#     banco_invico.to_excel(writer, sheet_name='BancoSSCC', index=False)\n",
    "#     sscc_resumen.to_excel(writer, sheet_name='SSCCResumen', index=False)\n"
   ]
  }
 ],
 "metadata": {
  "kernelspec": {
   "display_name": "Python 3.8.5 ('invicoctrlpy_env': venv)",
   "language": "python",
   "name": "python3"
  },
  "language_info": {
   "codemirror_mode": {
    "name": "ipython",
    "version": 3
   },
   "file_extension": ".py",
   "mimetype": "text/x-python",
   "name": "python",
   "nbconvert_exporter": "python",
   "pygments_lexer": "ipython3",
   "version": "3.8.5"
  },
  "orig_nbformat": 4,
  "vscode": {
   "interpreter": {
    "hash": "6658676a6853aed73c87d1c3c3a42e9e3200b017a0097464af5767205de40e74"
   }
  }
 },
 "nbformat": 4,
 "nbformat_minor": 2
}
