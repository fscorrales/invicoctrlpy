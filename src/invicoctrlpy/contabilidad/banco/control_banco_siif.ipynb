{
 "cells": [
  {
   "attachments": {},
   "cell_type": "markdown",
   "metadata": {},
   "source": [
    "# Control Banco SIIF (Contabilidad) vs Banco Real (SSCC)"
   ]
  },
  {
   "attachments": {},
   "cell_type": "markdown",
   "metadata": {},
   "source": [
    "## Datos iniciales"
   ]
  },
  {
   "attachments": {},
   "cell_type": "markdown",
   "metadata": {},
   "source": [
    "El único dato que debería modificarse es el relativo al ejercicio sobre el cual se pretende trabajar."
   ]
  },
  {
   "cell_type": "code",
   "execution_count": null,
   "metadata": {},
   "outputs": [],
   "source": [
    "from invicoctrlpy.contabilidad.banco.control_banco_siif import ControlBanco\n",
    "\n",
    "import pandas as pd\n",
    "pd.options.display.float_format = '{:,.2f}'.format\n",
    "pd.set_option('mode.chained_assignment',None)\n",
    "\n",
    "import itables\n",
    "itables.options.lengthMenu = [10, 50, 100, -1]\n",
    "itables.options.maxBytes = 0\n",
    "\n",
    "from  pivottablejs import pivot_ui\n",
    "\n",
    "EJERCICIO = ['2023']\n",
    "UPDATE_DB = False\n",
    "control_banco = ControlBanco(ejercicio=EJERCICIO, update_db=UPDATE_DB)"
   ]
  },
  {
   "attachments": {},
   "cell_type": "markdown",
   "metadata": {},
   "source": [
    "## Controles Cruzados"
   ]
  },
  {
   "cell_type": "markdown",
   "metadata": {},
   "source": [
    "### Icaro vs SIIF"
   ]
  },
  {
   "cell_type": "code",
   "execution_count": null,
   "metadata": {},
   "outputs": [],
   "source": [
    "# icaro_vs_siif = control_retenciones.icaro_vs_siif()\n",
    "# itables.show(icaro_vs_siif, column_filters=\"footer\", dom=\"lrtip\")"
   ]
  },
  {
   "attachments": {},
   "cell_type": "markdown",
   "metadata": {},
   "source": [
    "### Icaro vs Banco INVICO"
   ]
  },
  {
   "cell_type": "code",
   "execution_count": null,
   "metadata": {},
   "outputs": [],
   "source": [
    "# icaro_vs_sscc = control_retenciones.icaro_vs_sscc()\n",
    "# itables.show(icaro_vs_sscc, column_filters=\"footer\", dom=\"lrtip\")"
   ]
  },
  {
   "attachments": {},
   "cell_type": "markdown",
   "metadata": {},
   "source": [
    "### SGF vs Banco INVICO"
   ]
  },
  {
   "cell_type": "code",
   "execution_count": null,
   "metadata": {},
   "outputs": [],
   "source": [
    "# sgf_vs_sscc = control_retenciones.sgf_vs_sscc()\n",
    "# itables.show(sgf_vs_sscc, column_filters=\"footer\", dom=\"lrtip\")"
   ]
  },
  {
   "cell_type": "markdown",
   "metadata": {},
   "source": [
    "### Icaro vs INVICO"
   ]
  },
  {
   "cell_type": "code",
   "execution_count": null,
   "metadata": {},
   "outputs": [],
   "source": [
    "# icaro_vs_sgf = control_retenciones.icaro_vs_sgf(only_diff=True)\n",
    "# itables.show(icaro_vs_sgf, column_filters=\"footer\", dom=\"lrtip\")"
   ]
  },
  {
   "attachments": {},
   "cell_type": "markdown",
   "metadata": {},
   "source": [
    "## Tablas Auxiliares"
   ]
  },
  {
   "attachments": {},
   "cell_type": "markdown",
   "metadata": {},
   "source": [
    "### Banco SIIF Completo"
   ]
  },
  {
   "cell_type": "code",
   "execution_count": null,
   "metadata": {},
   "outputs": [],
   "source": [
    "banco_siif = control_banco.import_banco_siif()\n",
    "itables.show(banco_siif, column_filters=\"footer\", dom=\"lrtip\")"
   ]
  },
  {
   "cell_type": "markdown",
   "metadata": {},
   "source": [
    "### Banco SIIF Resumen"
   ]
  },
  {
   "cell_type": "code",
   "execution_count": null,
   "metadata": {},
   "outputs": [],
   "source": [
    "banco_siif_resumen = control_banco.banco_siif_summarize(['ejercicio', 'cta_cte'])\n",
    "itables.show(banco_siif_resumen, column_filters=\"footer\", dom=\"lrtip\")"
   ]
  },
  {
   "cell_type": "markdown",
   "metadata": {},
   "source": [
    "### Banco INVICO Completo"
   ]
  },
  {
   "cell_type": "code",
   "execution_count": null,
   "metadata": {},
   "outputs": [],
   "source": [
    "# banco_invico = control_retenciones.import_banco_invico()\n",
    "# itables.show(banco_invico, column_filters=\"footer\", dom=\"lrtip\")"
   ]
  },
  {
   "cell_type": "markdown",
   "metadata": {},
   "source": [
    "### Banco INVICO Resumen "
   ]
  },
  {
   "cell_type": "code",
   "execution_count": null,
   "metadata": {},
   "outputs": [],
   "source": [
    "# sscc_resumen = control_retenciones.sscc_summarize()\n",
    "# itables.show(sscc_resumen, column_filters=\"footer\", dom=\"lrtip\")"
   ]
  },
  {
   "attachments": {},
   "cell_type": "markdown",
   "metadata": {},
   "source": [
    "## EXTRA:"
   ]
  },
  {
   "cell_type": "markdown",
   "metadata": {},
   "source": [
    "### Excel"
   ]
  },
  {
   "cell_type": "code",
   "execution_count": null,
   "metadata": {},
   "outputs": [],
   "source": [
    "# if isinstance(EJERCICIO, list):\n",
    "#     ejercicio_str = EJERCICIO[-1]\n",
    "# else:\n",
    "#     ejercicio_str = EJERCICIO\n",
    "\n",
    "# with pd.ExcelWriter('Control Retenciones ' + ejercicio_str + '.xlsx') as writer:\n",
    "#     icaro_vs_sscc.to_excel(writer, sheet_name='IcaroVsSSCC', index=False)\n",
    "#     icaro_vs_sgf.to_excel(writer, sheet_name='IcaroVsSGF', index=False)\n",
    "#     icaro_vs_siif.to_excel(writer, sheet_name='IcaroVsSiif', index=False)\n",
    "#     sgf_vs_sscc.to_excel(writer, sheet_name='SGFVsSSCC', index=False)\n",
    "#     banco_siif.to_excel(writer, sheet_name='IcaroCargaRetenciones', index=False)\n",
    "#     icaro_resumen.to_excel(writer, sheet_name='IcaroResumen', index=False)\n",
    "#     pagos_contratistas.to_excel(writer, sheet_name='PagoContratistasSIIF', index=False)\n",
    "#     pagos_retenciones.to_excel(writer, sheet_name='PagoRetencionesSIIF', index=False)\n",
    "#     siif_resumen.to_excel(writer, sheet_name='SiifResumen', index=False)\n",
    "#     rend_cuit.to_excel(writer, sheet_name='RendCuit', index=False)\n",
    "#     sgf_resumen.to_excel(writer, sheet_name='SGFResumen', index=False)\n",
    "#     banco_invico.to_excel(writer, sheet_name='BancoSSCC', index=False)\n",
    "#     sscc_resumen.to_excel(writer, sheet_name='SSCCResumen', index=False)\n"
   ]
  }
 ],
 "metadata": {
  "kernelspec": {
   "display_name": "Python 3.8.5 ('invicoctrlpy_env': venv)",
   "language": "python",
   "name": "python3"
  },
  "language_info": {
   "codemirror_mode": {
    "name": "ipython",
    "version": 3
   },
   "file_extension": ".py",
   "mimetype": "text/x-python",
   "name": "python",
   "nbconvert_exporter": "python",
   "pygments_lexer": "ipython3",
   "version": "3.8.5"
  },
  "orig_nbformat": 4,
  "vscode": {
   "interpreter": {
    "hash": "6658676a6853aed73c87d1c3c3a42e9e3200b017a0097464af5767205de40e74"
   }
  }
 },
 "nbformat": 4,
 "nbformat_minor": 2
}
