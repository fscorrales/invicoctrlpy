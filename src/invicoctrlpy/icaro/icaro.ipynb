{
 "cells": [
  {
   "attachments": {},
   "cell_type": "markdown",
   "metadata": {},
   "source": [
    "# Requerimientos iniciales"
   ]
  },
  {
   "attachments": {},
   "cell_type": "markdown",
   "metadata": {},
   "source": [
    "## Módulos necesarios"
   ]
  },
  {
   "cell_type": "code",
   "execution_count": null,
   "metadata": {},
   "outputs": [],
   "source": [
    "import inspect\n",
    "import os\n",
    "#from datar import dplyr, f\n",
    "\n",
    "from invicodatpy.icaro.migrate_icaro import MigrateIcaro\n",
    "from invicodatpy.siif.ppto_gtos_fte_rf602 import PptoGtosFteRf602"
   ]
  },
  {
   "attachments": {},
   "cell_type": "markdown",
   "metadata": {},
   "source": [
    "## Variables Globales"
   ]
  },
  {
   "cell_type": "code",
   "execution_count": null,
   "metadata": {},
   "outputs": [],
   "source": [
    "EJERCICIO = '2021'\n",
    "DB_PATH = os.path.dirname(\n",
    "            os.path.dirname(\n",
    "                os.path.dirname(\n",
    "                    os.path.dirname(\n",
    "                        os.getcwd()\n",
    "            ))))\n",
    "DB_PATH += '/Python Output/SQLite Files'\n",
    "DB_PATH"
   ]
  },
  {
   "attachments": {},
   "cell_type": "markdown",
   "metadata": {},
   "source": [
    "# Control de Ejecución Anual"
   ]
  },
  {
   "attachments": {},
   "cell_type": "markdown",
   "metadata": {},
   "source": [
    "## SIIF rf602 (Presupuesto Gasto con Fuente)"
   ]
  },
  {
   "cell_type": "code",
   "execution_count": null,
   "metadata": {},
   "outputs": [],
   "source": [
    "# icaro_carga_df = MigrateIcaro().from_sql(db_path + '/icaro.sqlite', 'carga')\n",
    "# icaro_carga_df\n",
    "siif_rf602 = PptoGtosFteRf602()\n",
    "siif_rf602.from_sql(DB_PATH + '/siif.sqlite')\n",
    "siif_rf602.df = siif_rf602.df.loc[siif_rf602.df['ejercicio'] == EJERCICIO]\n",
    "siif_rf602.df\n"
   ]
  },
  {
   "attachments": {},
   "cell_type": "markdown",
   "metadata": {},
   "source": [
    "## ICARO Carga"
   ]
  },
  {
   "cell_type": "code",
   "execution_count": null,
   "metadata": {},
   "outputs": [],
   "source": [
    "icaro_carga_df = MigrateIcaro()\n",
    "icaro_carga_df.from_sql(DB_PATH + '/icaro.sqlite', 'carga')\n",
    "icaro_carga_df.df = icaro_carga_df.df.loc[icaro_carga_df.df['ejercicio'] == EJERCICIO]\n",
    "icaro_carga_df.df"
   ]
  }
 ],
 "metadata": {
  "kernelspec": {
   "display_name": "invicoctrlpy_env",
   "language": "python",
   "name": "python3"
  },
  "language_info": {
   "codemirror_mode": {
    "name": "ipython",
    "version": 3
   },
   "file_extension": ".py",
   "mimetype": "text/x-python",
   "name": "python",
   "nbconvert_exporter": "python",
   "pygments_lexer": "ipython3",
   "version": "3.10.6"
  },
  "orig_nbformat": 4,
  "vscode": {
   "interpreter": {
    "hash": "6144ef642a4dc858b1d6132c6d6d436505e6e8c24809058f738569b45e78dd01"
   }
  }
 },
 "nbformat": 4,
 "nbformat_minor": 2
}
