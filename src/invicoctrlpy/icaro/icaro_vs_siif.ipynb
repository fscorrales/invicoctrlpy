{
 "cells": [
  {
   "cell_type": "markdown",
   "metadata": {},
   "source": [
    "# CONTROL EJECUCIÓN OBRAS SIIF VS ICARO"
   ]
  },
  {
   "cell_type": "markdown",
   "metadata": {},
   "source": [
    "Conjunto de reportes que, mediante el cruce de información entre SIIF e Icaro, permiten un control ex-post de la ejecución presupuestaria de obras (partidas 421 y 422). Los controles se efectúan a nivel estructura programática, carga de comprobantes de gastos y carga de PA6 (incluyendo su regularización)"
   ]
  },
  {
   "cell_type": "markdown",
   "metadata": {},
   "source": [
    "## Datos iniciales"
   ]
  },
  {
   "cell_type": "markdown",
   "metadata": {},
   "source": [
    "El único dato que debería modificarse es el relativo al ejercicio sobre el cual se pretende trabajar."
   ]
  },
  {
   "cell_type": "code",
   "execution_count": null,
   "metadata": {},
   "outputs": [],
   "source": [
    "from invicoctrlpy.icaro.icaro_vs_siif import IcaroVsSIIF\n",
    "\n",
    "import pandas as pd\n",
    "pd.options.display.float_format = '{:,.2f}'.format\n",
    "\n",
    "import itables\n",
    "itables.options.lengthMenu = [10, 50, 100, -1]\n",
    "itables.options.maxBytes = 0\n",
    "\n",
    "from pivottablejs import pivot_ui\n",
    "\n",
    "EJERCICIO = '2022'\n",
    "UPDATE_DB = False\n",
    "icaro_vs_siif = IcaroVsSIIF(ejercicio=EJERCICIO, update_db=UPDATE_DB)"
   ]
  },
  {
   "cell_type": "markdown",
   "metadata": {},
   "source": [
    "## Controles"
   ]
  },
  {
   "cell_type": "markdown",
   "metadata": {},
   "source": [
    "### Ejecución Anual por Estructura"
   ]
  },
  {
   "cell_type": "markdown",
   "metadata": {},
   "source": [
    "Control de la ejecución anual a nivel estructura programática (incluyendo fuente financiera). La información del SIIF es obtenida del reporte rf602. Las diferencias que pudieran surgir tendrán distintos orígenes, como ser:\n",
    " - falta de carga de comprobantes en Icaro (diferencia positiva)\n",
    " - carga incorrecta tanto en SIIF como en Icaro\n",
    "\n",
    "El control que sigue a continuación permitirá disminuir alguna (o todas) las diferencias detectadas en el presente. En caso de que las mismas prevalezcan, deberá cruzar la información de las estructuras afectadas. Para ello, se recomienda utilizar los informes (por ej. informe por partidas) y reportes (por ej. ...) del SIIF, por un lado, y el archivo de tabla dinámica de Icaro que acompaña al presente reporte, por otro lado."
   ]
  },
  {
   "cell_type": "code",
   "execution_count": null,
   "metadata": {},
   "outputs": [],
   "source": [
    "ejec_anual = icaro_vs_siif.control_ejecucion_anual()\n",
    "itables.show(ejec_anual, column_filters=\"footer\", dom=\"lrtip\")"
   ]
  },
  {
   "cell_type": "markdown",
   "metadata": {},
   "source": [
    "### Comprobantes gastos SIIF vs Icaro"
   ]
  },
  {
   "cell_type": "markdown",
   "metadata": {},
   "source": [
    "Control en la carga de comprobantes de gastos. La información del SIIF es obtenida de los reportes rcg01_uejp y gto_rpa03g (gpo 400). El presente reporte permite detectar 8 tipos de errores (nro_comprobante, fecha, importe, cta_cte, fuente, cuit, tipo_comprobante, partida) cuyo orígenes podrán ser:\n",
    " - falta o error en la carga de Icaro\n",
    " - error en la carga de SIIF\n",
    " - utilización de MAPs en SIIF. Es importante tener en cuenta que Icaro no registra este tipo de comprobantes lo cual genera diferencias tanto en la propia carga del MAP como en los comprobantes sobre los cuales recae."
   ]
  },
  {
   "cell_type": "code",
   "execution_count": null,
   "metadata": {},
   "outputs": [],
   "source": [
    "comprobantes = icaro_vs_siif.control_comprobantes()\n",
    "itables.show(comprobantes, column_filters=\"footer\", dom=\"lrtip\")"
   ]
  },
  {
   "cell_type": "markdown",
   "metadata": {},
   "source": [
    "### Control PA6"
   ]
  },
  {
   "cell_type": "markdown",
   "metadata": {},
   "source": [
    "Control tanto en los PA6 como en su posterior regularización. La información del SIIF es obtenida de los reportes rcg01_uejp y rfondo07tp. El presente reporte permite detectar 9 tipos de errores (nro_fondo, fecha_pa6, fecha_reg, importe_pa6, importe_reg, cta_cte, fuente, cuit, tipo_comprobante) cuyo principal orígen provendrá de una incorrecta carga en Icaro."
   ]
  },
  {
   "cell_type": "code",
   "execution_count": null,
   "metadata": {},
   "outputs": [],
   "source": [
    "control_pa6 = icaro_vs_siif.control_pa6()\n",
    "itables.show(control_pa6, column_filters=\"footer\", dom=\"lrtip\")"
   ]
  },
  {
   "cell_type": "markdown",
   "metadata": {},
   "source": [
    "## EXTRA:"
   ]
  },
  {
   "cell_type": "markdown",
   "metadata": {},
   "source": [
    "### Excel"
   ]
  },
  {
   "cell_type": "code",
   "execution_count": null,
   "metadata": {},
   "outputs": [],
   "source": [
    "with pd.ExcelWriter('icaro_vs_siif.xlsx') as writer:\n",
    "    ejec_anual.to_excel(writer, sheet_name='ejec_anual_estructura')\n",
    "    comprobantes.to_excel(writer, sheet_name='comprobantes_gtos')\n",
    "    control_pa6.to_excel(writer, sheet_name='control_pa6')"
   ]
  },
  {
   "cell_type": "markdown",
   "metadata": {},
   "source": [
    "### Tablas Dinámicas"
   ]
  },
  {
   "cell_type": "code",
   "execution_count": null,
   "metadata": {},
   "outputs": [],
   "source": [
    "icaro_sin_pa6 = icaro_vs_siif.icaro.copy()\n",
    "icaro_sin_pa6 = icaro_sin_pa6.loc[icaro_sin_pa6['tipo'] != 'PA6']\n",
    "pivot_ui(icaro_sin_pa6, 'tabla_dinamica_icaro_sin_pa6.html')"
   ]
  }
 ],
 "metadata": {
  "kernelspec": {
   "display_name": "Python 3.8.5 ('invicoctrlpy_env': venv)",
   "language": "python",
   "name": "python3"
  },
  "language_info": {
   "codemirror_mode": {
    "name": "ipython",
    "version": 3
   },
   "file_extension": ".py",
   "mimetype": "text/x-python",
   "name": "python",
   "nbconvert_exporter": "python",
   "pygments_lexer": "ipython3",
   "version": "3.8.5"
  },
  "vscode": {
   "interpreter": {
    "hash": "6658676a6853aed73c87d1c3c3a42e9e3200b017a0097464af5767205de40e74"
   }
  }
 },
 "nbformat": 4,
 "nbformat_minor": 2
}
