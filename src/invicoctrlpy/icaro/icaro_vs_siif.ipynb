{
 "cells": [
  {
   "attachments": {},
   "cell_type": "markdown",
   "metadata": {},
   "source": [
    "# Requerimientos iniciales"
   ]
  },
  {
   "attachments": {},
   "cell_type": "markdown",
   "metadata": {},
   "source": [
    "## Datos iniciales"
   ]
  },
  {
   "cell_type": "code",
   "execution_count": null,
   "metadata": {},
   "outputs": [],
   "source": [
    "from icaro_vs_siif import IcaroVsSIIF\n",
    "import pandas as pd\n",
    "import itables\n",
    "\n",
    "EJERCICIO = '2021'\n",
    "icaro_vs_siif = IcaroVsSIIF(ejercicio=EJERCICIO)\n",
    "\n",
    "itables.options.lengthMenu = [10, 50, 100, -1]\n",
    "pd.options.display.float_format = '{:,.2f}'.format"
   ]
  },
  {
   "attachments": {},
   "cell_type": "markdown",
   "metadata": {},
   "source": [
    "# Controles"
   ]
  },
  {
   "attachments": {},
   "cell_type": "markdown",
   "metadata": {},
   "source": [
    "## Cromprobantes SIIF vs ICARO"
   ]
  },
  {
   "cell_type": "code",
   "execution_count": null,
   "metadata": {},
   "outputs": [],
   "source": [
    "comprobantes = icaro_vs_siif.control_comprobantes()\n",
    "itables.show(comprobantes, column_filters=\"footer\", dom=\"lrtip\")"
   ]
  },
  {
   "attachments": {},
   "cell_type": "markdown",
   "metadata": {},
   "source": [
    "## Ejecución Anual por Estructura"
   ]
  },
  {
   "cell_type": "code",
   "execution_count": null,
   "metadata": {},
   "outputs": [],
   "source": [
    "ejec_anual = icaro_vs_siif.control_ejecucion_anual()\n",
    "itables.show(ejec_anual, column_filters=\"footer\", dom=\"lrtip\")"
   ]
  }
 ],
 "metadata": {
  "kernelspec": {
   "display_name": "invicoctrlpy_env",
   "language": "python",
   "name": "python3"
  },
  "language_info": {
   "codemirror_mode": {
    "name": "ipython",
    "version": 3
   },
   "file_extension": ".py",
   "mimetype": "text/x-python",
   "name": "python",
   "nbconvert_exporter": "python",
   "pygments_lexer": "ipython3",
   "version": "3.10.6"
  },
  "orig_nbformat": 4,
  "vscode": {
   "interpreter": {
    "hash": "6144ef642a4dc858b1d6132c6d6d436505e6e8c24809058f738569b45e78dd01"
   }
  }
 },
 "nbformat": 4,
 "nbformat_minor": 2
}
